{
  "nbformat": 4,
  "nbformat_minor": 0,
  "metadata": {
    "colab": {
      "name": "Multi_linear_regression_Startup.ipynb",
      "provenance": [],
      "collapsed_sections": []
    },
    "kernelspec": {
      "name": "python3",
      "display_name": "Python 3"
    },
    "language_info": {
      "name": "python"
    }
  },
  "cells": [
    {
      "cell_type": "code",
      "metadata": {
        "id": "dr57oKFEaOvT"
      },
      "source": [
        "#importing necessary libraries for analysis\n",
        "import pandas as pd\n",
        "import matplotlib.pyplot as plt\n",
        "import seaborn as sns\n",
        "import numpy as np\n",
        "import scipy\n",
        "from scipy import stats"
      ],
      "execution_count": 1,
      "outputs": []
    },
    {
      "cell_type": "code",
      "metadata": {
        "colab": {
          "base_uri": "https://localhost:8080/",
          "height": 204
        },
        "id": "o6Dfze5lavmg",
        "outputId": "1ced9ccf-552b-4429-ab0f-daf8477ebebd"
      },
      "source": [
        "#loading dataset\n",
        "df=pd.read_csv('50_Startups.csv')\n",
        "\n",
        "# printing first five rows of dataset\n",
        "df.head()"
      ],
      "execution_count": 2,
      "outputs": [
        {
          "output_type": "execute_result",
          "data": {
            "text/html": [
              "<div>\n",
              "<style scoped>\n",
              "    .dataframe tbody tr th:only-of-type {\n",
              "        vertical-align: middle;\n",
              "    }\n",
              "\n",
              "    .dataframe tbody tr th {\n",
              "        vertical-align: top;\n",
              "    }\n",
              "\n",
              "    .dataframe thead th {\n",
              "        text-align: right;\n",
              "    }\n",
              "</style>\n",
              "<table border=\"1\" class=\"dataframe\">\n",
              "  <thead>\n",
              "    <tr style=\"text-align: right;\">\n",
              "      <th></th>\n",
              "      <th>R&amp;D Spend</th>\n",
              "      <th>Administration</th>\n",
              "      <th>Marketing Spend</th>\n",
              "      <th>State</th>\n",
              "      <th>Profit</th>\n",
              "    </tr>\n",
              "  </thead>\n",
              "  <tbody>\n",
              "    <tr>\n",
              "      <th>0</th>\n",
              "      <td>165349.20</td>\n",
              "      <td>136897.80</td>\n",
              "      <td>471784.10</td>\n",
              "      <td>New York</td>\n",
              "      <td>192261.83</td>\n",
              "    </tr>\n",
              "    <tr>\n",
              "      <th>1</th>\n",
              "      <td>162597.70</td>\n",
              "      <td>151377.59</td>\n",
              "      <td>443898.53</td>\n",
              "      <td>California</td>\n",
              "      <td>191792.06</td>\n",
              "    </tr>\n",
              "    <tr>\n",
              "      <th>2</th>\n",
              "      <td>153441.51</td>\n",
              "      <td>101145.55</td>\n",
              "      <td>407934.54</td>\n",
              "      <td>Florida</td>\n",
              "      <td>191050.39</td>\n",
              "    </tr>\n",
              "    <tr>\n",
              "      <th>3</th>\n",
              "      <td>144372.41</td>\n",
              "      <td>118671.85</td>\n",
              "      <td>383199.62</td>\n",
              "      <td>New York</td>\n",
              "      <td>182901.99</td>\n",
              "    </tr>\n",
              "    <tr>\n",
              "      <th>4</th>\n",
              "      <td>142107.34</td>\n",
              "      <td>91391.77</td>\n",
              "      <td>366168.42</td>\n",
              "      <td>Florida</td>\n",
              "      <td>166187.94</td>\n",
              "    </tr>\n",
              "  </tbody>\n",
              "</table>\n",
              "</div>"
            ],
            "text/plain": [
              "   R&D Spend  Administration  Marketing Spend       State     Profit\n",
              "0  165349.20       136897.80        471784.10    New York  192261.83\n",
              "1  162597.70       151377.59        443898.53  California  191792.06\n",
              "2  153441.51       101145.55        407934.54     Florida  191050.39\n",
              "3  144372.41       118671.85        383199.62    New York  182901.99\n",
              "4  142107.34        91391.77        366168.42     Florida  166187.94"
            ]
          },
          "metadata": {
            "tags": []
          },
          "execution_count": 2
        }
      ]
    },
    {
      "cell_type": "markdown",
      "metadata": {
        "id": "RUq9QuFKa_yl"
      },
      "source": [
        "So, there are total 5 columns available in which 4 are numerical and 1 is categorical and our target column or label is Profit and the rest are independent column. We have to do the analysis and then training the model by Multi linear regression\n",
        "\n"
      ]
    },
    {
      "cell_type": "code",
      "metadata": {
        "colab": {
          "base_uri": "https://localhost:8080/"
        },
        "id": "QEsbhbztavpZ",
        "outputId": "43957edd-a794-4141-d79d-116e6d183bbb"
      },
      "source": [
        "#checking if any null value is present or not\n",
        "df.isnull().sum()"
      ],
      "execution_count": 4,
      "outputs": [
        {
          "output_type": "execute_result",
          "data": {
            "text/plain": [
              "R&D Spend          0\n",
              "Administration     0\n",
              "Marketing Spend    0\n",
              "State              0\n",
              "Profit             0\n",
              "dtype: int64"
            ]
          },
          "metadata": {
            "tags": []
          },
          "execution_count": 4
        }
      ]
    },
    {
      "cell_type": "code",
      "metadata": {
        "colab": {
          "base_uri": "https://localhost:8080/",
          "height": 390
        },
        "id": "2e50v_gHavsJ",
        "outputId": "aedfaf1e-c7d5-4561-84a3-9f92331c7a0f"
      },
      "source": [
        "# seeing the statistics of the dataset\n",
        "df.describe(include=\"all\")"
      ],
      "execution_count": 5,
      "outputs": [
        {
          "output_type": "execute_result",
          "data": {
            "text/html": [
              "<div>\n",
              "<style scoped>\n",
              "    .dataframe tbody tr th:only-of-type {\n",
              "        vertical-align: middle;\n",
              "    }\n",
              "\n",
              "    .dataframe tbody tr th {\n",
              "        vertical-align: top;\n",
              "    }\n",
              "\n",
              "    .dataframe thead th {\n",
              "        text-align: right;\n",
              "    }\n",
              "</style>\n",
              "<table border=\"1\" class=\"dataframe\">\n",
              "  <thead>\n",
              "    <tr style=\"text-align: right;\">\n",
              "      <th></th>\n",
              "      <th>R&amp;D Spend</th>\n",
              "      <th>Administration</th>\n",
              "      <th>Marketing Spend</th>\n",
              "      <th>State</th>\n",
              "      <th>Profit</th>\n",
              "    </tr>\n",
              "  </thead>\n",
              "  <tbody>\n",
              "    <tr>\n",
              "      <th>count</th>\n",
              "      <td>50.000000</td>\n",
              "      <td>50.000000</td>\n",
              "      <td>50.000000</td>\n",
              "      <td>50</td>\n",
              "      <td>50.000000</td>\n",
              "    </tr>\n",
              "    <tr>\n",
              "      <th>unique</th>\n",
              "      <td>NaN</td>\n",
              "      <td>NaN</td>\n",
              "      <td>NaN</td>\n",
              "      <td>3</td>\n",
              "      <td>NaN</td>\n",
              "    </tr>\n",
              "    <tr>\n",
              "      <th>top</th>\n",
              "      <td>NaN</td>\n",
              "      <td>NaN</td>\n",
              "      <td>NaN</td>\n",
              "      <td>California</td>\n",
              "      <td>NaN</td>\n",
              "    </tr>\n",
              "    <tr>\n",
              "      <th>freq</th>\n",
              "      <td>NaN</td>\n",
              "      <td>NaN</td>\n",
              "      <td>NaN</td>\n",
              "      <td>17</td>\n",
              "      <td>NaN</td>\n",
              "    </tr>\n",
              "    <tr>\n",
              "      <th>mean</th>\n",
              "      <td>73721.615600</td>\n",
              "      <td>121344.639600</td>\n",
              "      <td>211025.097800</td>\n",
              "      <td>NaN</td>\n",
              "      <td>112012.639200</td>\n",
              "    </tr>\n",
              "    <tr>\n",
              "      <th>std</th>\n",
              "      <td>45902.256482</td>\n",
              "      <td>28017.802755</td>\n",
              "      <td>122290.310726</td>\n",
              "      <td>NaN</td>\n",
              "      <td>40306.180338</td>\n",
              "    </tr>\n",
              "    <tr>\n",
              "      <th>min</th>\n",
              "      <td>0.000000</td>\n",
              "      <td>51283.140000</td>\n",
              "      <td>0.000000</td>\n",
              "      <td>NaN</td>\n",
              "      <td>14681.400000</td>\n",
              "    </tr>\n",
              "    <tr>\n",
              "      <th>25%</th>\n",
              "      <td>39936.370000</td>\n",
              "      <td>103730.875000</td>\n",
              "      <td>129300.132500</td>\n",
              "      <td>NaN</td>\n",
              "      <td>90138.902500</td>\n",
              "    </tr>\n",
              "    <tr>\n",
              "      <th>50%</th>\n",
              "      <td>73051.080000</td>\n",
              "      <td>122699.795000</td>\n",
              "      <td>212716.240000</td>\n",
              "      <td>NaN</td>\n",
              "      <td>107978.190000</td>\n",
              "    </tr>\n",
              "    <tr>\n",
              "      <th>75%</th>\n",
              "      <td>101602.800000</td>\n",
              "      <td>144842.180000</td>\n",
              "      <td>299469.085000</td>\n",
              "      <td>NaN</td>\n",
              "      <td>139765.977500</td>\n",
              "    </tr>\n",
              "    <tr>\n",
              "      <th>max</th>\n",
              "      <td>165349.200000</td>\n",
              "      <td>182645.560000</td>\n",
              "      <td>471784.100000</td>\n",
              "      <td>NaN</td>\n",
              "      <td>192261.830000</td>\n",
              "    </tr>\n",
              "  </tbody>\n",
              "</table>\n",
              "</div>"
            ],
            "text/plain": [
              "            R&D Spend  Administration  ...       State         Profit\n",
              "count       50.000000       50.000000  ...          50      50.000000\n",
              "unique            NaN             NaN  ...           3            NaN\n",
              "top               NaN             NaN  ...  California            NaN\n",
              "freq              NaN             NaN  ...          17            NaN\n",
              "mean     73721.615600   121344.639600  ...         NaN  112012.639200\n",
              "std      45902.256482    28017.802755  ...         NaN   40306.180338\n",
              "min          0.000000    51283.140000  ...         NaN   14681.400000\n",
              "25%      39936.370000   103730.875000  ...         NaN   90138.902500\n",
              "50%      73051.080000   122699.795000  ...         NaN  107978.190000\n",
              "75%     101602.800000   144842.180000  ...         NaN  139765.977500\n",
              "max     165349.200000   182645.560000  ...         NaN  192261.830000\n",
              "\n",
              "[11 rows x 5 columns]"
            ]
          },
          "metadata": {
            "tags": []
          },
          "execution_count": 5
        }
      ]
    },
    {
      "cell_type": "markdown",
      "metadata": {
        "id": "5jXfhnPIbWAV"
      },
      "source": [
        "So we have 50 rows available and in categorical there are 3 unique values available in which maximum data is for California.\n",
        "\n"
      ]
    },
    {
      "cell_type": "markdown",
      "metadata": {
        "id": "ma3udPptbVzO"
      },
      "source": [
        "**Visualizing the dataset**"
      ]
    },
    {
      "cell_type": "code",
      "metadata": {
        "colab": {
          "base_uri": "https://localhost:8080/",
          "height": 676
        },
        "id": "9tlsyB0Davut",
        "outputId": "35710ffa-953a-4bf7-e5ef-2fccecb53a12"
      },
      "source": [
        "#visualising numerical columns\n",
        "# plot1\n",
        "fig=plt.figure(figsize=(15,11))\n",
        "ax0=plt.subplot(221)\n",
        "ax0.plot(df['R&D Spend'],df['Profit'],'.')\n",
        "ax0.set_xlabel('R&D Spend');\n",
        "ax0.set_ylabel('Profit');\n",
        "ax0.set_title('R&D v/s profit')\n",
        "# plot2\n",
        "ax1=plt.subplot(222)\n",
        "ax1.plot(df['Administration'],df['Profit'],'.',color='red')\n",
        "ax1.set_xlabel('Administration')\n",
        "ax1.set_ylabel('Profit');\n",
        "ax1.set_title('Admin v/s profit')\n",
        "#plot3\n",
        "ax2=plt.subplot(223)\n",
        "ax2.plot(df['Marketing Spend'],df['Profit'],'.',color='green')\n",
        "ax2.set_xlabel('Marketing Spend')\n",
        "ax2.set_ylabel('Profit');\n",
        "ax2.set_title('Marketing v/s profit')\n",
        "plt.show();"
      ],
      "execution_count": 6,
      "outputs": [
        {
          "output_type": "display_data",
          "data": {
            "image/png": "[encoded data removed]",
            "text/plain": [
              "<Figure size 1080x792 with 3 Axes>"
            ]
          },
          "metadata": {
            "tags": [],
            "needs_background": "light"
          }
        }
      ]
    },
    {
      "cell_type": "markdown",
      "metadata": {
        "id": "wkqH45tMbsLq"
      },
      "source": [
        "Here only R&D and Marketing spend showing a clear linear relationship between profit whereas administration are much scatter but still have some linear relationship between profit."
      ]
    },
    {
      "cell_type": "code",
      "metadata": {
        "colab": {
          "base_uri": "https://localhost:8080/",
          "height": 295
        },
        "id": "xGknONRRavx4",
        "outputId": "64578953-53e8-486d-c18d-bd24b71d7f09"
      },
      "source": [
        "#visualising the Categorical column\n",
        "plt.bar(df['State'],df['Profit'],color='orange')\n",
        "plt.xlabel('State')\n",
        "plt.ylabel('Profit')\n",
        "plt.title('State v/s Profit')\n",
        "plt.show();"
      ],
      "execution_count": 7,
      "outputs": [
        {
          "output_type": "display_data",
          "data": {
            "image/png": "[encoded data removed]",
            "text/plain": [
              "<Figure size 432x288 with 1 Axes>"
            ]
          },
          "metadata": {
            "tags": [],
            "needs_background": "light"
          }
        }
      ]
    },
    {
      "cell_type": "markdown",
      "metadata": {
        "id": "5uYM0sCebykM"
      },
      "source": [
        "Here the three states showing not much different from each other in making profit for startups. So we can do one hot encoding for changing the categorical into numerical or simply drop the column during training.\n",
        "\n",
        "Now after visualizing we have to split the data into train and test."
      ]
    },
    {
      "cell_type": "markdown",
      "metadata": {
        "id": "FjyOtfqKb7Hz"
      },
      "source": [
        "**Splitting the dataset**"
      ]
    },
    {
      "cell_type": "code",
      "metadata": {
        "id": "YYtmnb9DbyHB"
      },
      "source": [
        "#importing necessary library for splitting \n",
        "from sklearn.model_selection import train_test_split"
      ],
      "execution_count": 8,
      "outputs": []
    },
    {
      "cell_type": "code",
      "metadata": {
        "colab": {
          "base_uri": "https://localhost:8080/"
        },
        "id": "t97P2ONRav3k",
        "outputId": "550f68ff-53c4-4375-eabb-c667df9b504c"
      },
      "source": [
        "#dividing the data into independent(X) and dependent(Y) variable\n",
        "X=df.iloc[:,:3].values\n",
        "Y=df['Profit'].values\n",
        "\n",
        "#checking the shape\n",
        "print('X:',X.shape)\n",
        "print('Y:',Y.shape)"
      ],
      "execution_count": 9,
      "outputs": [
        {
          "output_type": "stream",
          "text": [
            "X: (50, 3)\n",
            "Y: (50,)\n"
          ],
          "name": "stdout"
        }
      ]
    },
    {
      "cell_type": "code",
      "metadata": {
        "id": "kVYkD5SWav6i"
      },
      "source": [
        "#splitting into train and test\n",
        "X_train,X_test,Y_train,Y_test=train_test_split(X,Y,test_size=0.3,random_state=1)"
      ],
      "execution_count": 10,
      "outputs": []
    },
    {
      "cell_type": "markdown",
      "metadata": {
        "id": "kZ4RvxL_csgy"
      },
      "source": [
        "Now, its time to train the dataset using linear regression\n",
        "\n",
        "**Training the model**"
      ]
    },
    {
      "cell_type": "code",
      "metadata": {
        "id": "7q6DDGJeav9p"
      },
      "source": [
        "#importing necessary libary for training\n",
        "from sklearn.linear_model import LinearRegression\n",
        "\n",
        "# initializing the model\n",
        "model=LinearRegression()"
      ],
      "execution_count": 11,
      "outputs": []
    },
    {
      "cell_type": "code",
      "metadata": {
        "colab": {
          "base_uri": "https://localhost:8080/"
        },
        "id": "IgxLM7WBawAj",
        "outputId": "d6cdf382-5193-40e3-bb38-d03ac5a73c05"
      },
      "source": [
        "# fitting the train data into the model\n",
        "model.fit(X_train,Y_train)"
      ],
      "execution_count": 12,
      "outputs": [
        {
          "output_type": "execute_result",
          "data": {
            "text/plain": [
              "LinearRegression(copy_X=True, fit_intercept=True, n_jobs=None, normalize=False)"
            ]
          },
          "metadata": {
            "tags": []
          },
          "execution_count": 12
        }
      ]
    },
    {
      "cell_type": "code",
      "metadata": {
        "colab": {
          "base_uri": "https://localhost:8080/"
        },
        "id": "XusdrS7PawDV",
        "outputId": "b1586646-71f0-4a1b-8e33-5940b3aa1d87"
      },
      "source": [
        "#predicting a single value\n",
        "model.predict([[165349.20,136897.80,471784.10]])"
      ],
      "execution_count": 13,
      "outputs": [
        {
          "output_type": "execute_result",
          "data": {
            "text/plain": [
              "array([190971.40648882])"
            ]
          },
          "metadata": {
            "tags": []
          },
          "execution_count": 13
        }
      ]
    },
    {
      "cell_type": "code",
      "metadata": {
        "id": "QJzkZS0MawF_"
      },
      "source": [
        "#predicting multiple values\n",
        "#1. On train data\n",
        "y_pred_train=model.predict(X_train)\n",
        "#2. On test data\n",
        "y_pred_test=model.predict(X_test)"
      ],
      "execution_count": 14,
      "outputs": []
    },
    {
      "cell_type": "code",
      "metadata": {
        "colab": {
          "base_uri": "https://localhost:8080/"
        },
        "id": "UY3QtbTsawI0",
        "outputId": "fc8b8f68-0920-48fe-b341-6112e7e33c59"
      },
      "source": [
        "#checking the score(accuracy)\n",
        "acc=model.score(X_test,Y_test)\n",
        "print('Accuracy:',acc*100)"
      ],
      "execution_count": 15,
      "outputs": [
        {
          "output_type": "stream",
          "text": [
            "Accuracy: 95.35462194580043\n"
          ],
          "name": "stdout"
        }
      ]
    },
    {
      "cell_type": "markdown",
      "metadata": {
        "id": "LWIEJhYsdD2l"
      },
      "source": [
        "\n",
        "Accuracy: 95.35462194580043\n",
        "\n",
        "So our model is showing 95% of accuracy"
      ]
    },
    {
      "cell_type": "code",
      "metadata": {
        "colab": {
          "base_uri": "https://localhost:8080/"
        },
        "id": "1_lgN6-dawLr",
        "outputId": "0d148a24-472f-4e8b-aef9-ba0b74db3a23"
      },
      "source": [
        "#checking the error from sklearn.metrics\n",
        "from sklearn.metrics import mean_squared_error\n",
        "mse=np.sqrt(mean_squared_error(Y_test,y_pred_test))\n",
        "print(\"Mean Square Error:\",mse)"
      ],
      "execution_count": 16,
      "outputs": [
        {
          "output_type": "stream",
          "text": [
            "Mean Square Error: 8583.728665571101\n"
          ],
          "name": "stdout"
        }
      ]
    },
    {
      "cell_type": "markdown",
      "metadata": {
        "id": "JbEIM72MdNav"
      },
      "source": [
        "Mean Square Error: 8583.728665571103\n",
        "\n",
        "Since we have a Mean Square Error of approx. 8584"
      ]
    },
    {
      "cell_type": "code",
      "metadata": {
        "colab": {
          "base_uri": "https://localhost:8080/"
        },
        "id": "N7UiMNeeawOX",
        "outputId": "be412b4f-a43f-4e02-a71a-9eaa8ab1b466"
      },
      "source": [
        "#checking the coefficients and intercepts\n",
        "print('Coefficient:',model.coef_)\n",
        "print('Intercept:',model.intercept_)"
      ],
      "execution_count": 17,
      "outputs": [
        {
          "output_type": "stream",
          "text": [
            "Coefficient: [ 0.77011884 -0.01413267  0.03477756]\n",
            "Intercept: 49160.10549525703\n"
          ],
          "name": "stdout"
        }
      ]
    },
    {
      "cell_type": "code",
      "metadata": {
        "colab": {
          "base_uri": "https://localhost:8080/",
          "height": 295
        },
        "id": "g2jWC1cSawRR",
        "outputId": "5f21619e-4bce-4677-edf4-7ffa3c610a8b"
      },
      "source": [
        "#visualizing the model trained\n",
        "plt.scatter(Y_train ,y_pred_train,c='green',marker='o',label='Training data')\n",
        "plt.scatter(Y_test,y_pred_test,c='orange',marker='s',label='Test data')\n",
        "plt.xlabel('True values')\n",
        "plt.ylabel('Predicted')\n",
        "plt.title(\"True value vs Predicted value\")\n",
        "plt.legend(loc= 'upper left')\n",
        "plt.plot()\n",
        "plt.show();"
      ],
      "execution_count": 18,
      "outputs": [
        {
          "output_type": "display_data",
          "data": {
            "image/png": "[encoded data removed]",
            "text/plain": [
              "<Figure size 432x288 with 1 Axes>"
            ]
          },
          "metadata": {
            "tags": [],
            "needs_background": "light"
          }
        }
      ]
    },
    {
      "cell_type": "code",
      "metadata": {
        "id": "hJb7HvouawT_"
      },
      "source": [
        ""
      ],
      "execution_count": null,
      "outputs": []
    }
  ]
}