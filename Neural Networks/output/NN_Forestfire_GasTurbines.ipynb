{
  "nbformat": 4,
  "nbformat_minor": 0,
  "metadata": {
    "colab": {
      "name": "NN_Forestfire_GasTurbines.ipynb",
      "provenance": [],
      "collapsed_sections": []
    },
    "kernelspec": {
      "name": "python3",
      "display_name": "Python 3"
    },
    "language_info": {
      "name": "python"
    }
  },
  "cells": [
    {
      "cell_type": "code",
      "metadata": {
        "id": "cuPsJbTgzfYh"
      },
      "source": [
        "import pandas as pd\n",
        "import numpy as np\n",
        "import keras\n",
        "from sklearn.preprocessing import StandardScaler"
      ],
      "execution_count": 63,
      "outputs": []
    },
    {
      "cell_type": "code",
      "metadata": {
        "colab": {
          "base_uri": "https://localhost:8080/",
          "height": 224
        },
        "id": "4LAtn3JgzgON",
        "outputId": "e4655e7f-870b-42f3-af8b-7db0175c4284"
      },
      "source": [
        "df =pd.read_csv('forestfires.csv')\n",
        "df.head()"
      ],
      "execution_count": 64,
      "outputs": [
        {
          "output_type": "execute_result",
          "data": {
            "text/html": [
              "<div>\n",
              "<style scoped>\n",
              "    .dataframe tbody tr th:only-of-type {\n",
              "        vertical-align: middle;\n",
              "    }\n",
              "\n",
              "    .dataframe tbody tr th {\n",
              "        vertical-align: top;\n",
              "    }\n",
              "\n",
              "    .dataframe thead th {\n",
              "        text-align: right;\n",
              "    }\n",
              "</style>\n",
              "<table border=\"1\" class=\"dataframe\">\n",
              "  <thead>\n",
              "    <tr style=\"text-align: right;\">\n",
              "      <th></th>\n",
              "      <th>month</th>\n",
              "      <th>day</th>\n",
              "      <th>FFMC</th>\n",
              "      <th>DMC</th>\n",
              "      <th>DC</th>\n",
              "      <th>ISI</th>\n",
              "      <th>temp</th>\n",
              "      <th>RH</th>\n",
              "      <th>wind</th>\n",
              "      <th>rain</th>\n",
              "      <th>area</th>\n",
              "      <th>dayfri</th>\n",
              "      <th>daymon</th>\n",
              "      <th>daysat</th>\n",
              "      <th>daysun</th>\n",
              "      <th>daythu</th>\n",
              "      <th>daytue</th>\n",
              "      <th>daywed</th>\n",
              "      <th>monthapr</th>\n",
              "      <th>monthaug</th>\n",
              "      <th>monthdec</th>\n",
              "      <th>monthfeb</th>\n",
              "      <th>monthjan</th>\n",
              "      <th>monthjul</th>\n",
              "      <th>monthjun</th>\n",
              "      <th>monthmar</th>\n",
              "      <th>monthmay</th>\n",
              "      <th>monthnov</th>\n",
              "      <th>monthoct</th>\n",
              "      <th>monthsep</th>\n",
              "      <th>size_category</th>\n",
              "    </tr>\n",
              "  </thead>\n",
              "  <tbody>\n",
              "    <tr>\n",
              "      <th>0</th>\n",
              "      <td>mar</td>\n",
              "      <td>fri</td>\n",
              "      <td>86.2</td>\n",
              "      <td>26.2</td>\n",
              "      <td>94.3</td>\n",
              "      <td>5.1</td>\n",
              "      <td>8.2</td>\n",
              "      <td>51</td>\n",
              "      <td>6.7</td>\n",
              "      <td>0.0</td>\n",
              "      <td>0.0</td>\n",
              "      <td>1</td>\n",
              "      <td>0</td>\n",
              "      <td>0</td>\n",
              "      <td>0</td>\n",
              "      <td>0</td>\n",
              "      <td>0</td>\n",
              "      <td>0</td>\n",
              "      <td>0</td>\n",
              "      <td>0</td>\n",
              "      <td>0</td>\n",
              "      <td>0</td>\n",
              "      <td>0</td>\n",
              "      <td>0</td>\n",
              "      <td>0</td>\n",
              "      <td>1</td>\n",
              "      <td>0</td>\n",
              "      <td>0</td>\n",
              "      <td>0</td>\n",
              "      <td>0</td>\n",
              "      <td>small</td>\n",
              "    </tr>\n",
              "    <tr>\n",
              "      <th>1</th>\n",
              "      <td>oct</td>\n",
              "      <td>tue</td>\n",
              "      <td>90.6</td>\n",
              "      <td>35.4</td>\n",
              "      <td>669.1</td>\n",
              "      <td>6.7</td>\n",
              "      <td>18.0</td>\n",
              "      <td>33</td>\n",
              "      <td>0.9</td>\n",
              "      <td>0.0</td>\n",
              "      <td>0.0</td>\n",
              "      <td>0</td>\n",
              "      <td>0</td>\n",
              "      <td>0</td>\n",
              "      <td>0</td>\n",
              "      <td>0</td>\n",
              "      <td>1</td>\n",
              "      <td>0</td>\n",
              "      <td>0</td>\n",
              "      <td>0</td>\n",
              "      <td>0</td>\n",
              "      <td>0</td>\n",
              "      <td>0</td>\n",
              "      <td>0</td>\n",
              "      <td>0</td>\n",
              "      <td>0</td>\n",
              "      <td>0</td>\n",
              "      <td>0</td>\n",
              "      <td>1</td>\n",
              "      <td>0</td>\n",
              "      <td>small</td>\n",
              "    </tr>\n",
              "    <tr>\n",
              "      <th>2</th>\n",
              "      <td>oct</td>\n",
              "      <td>sat</td>\n",
              "      <td>90.6</td>\n",
              "      <td>43.7</td>\n",
              "      <td>686.9</td>\n",
              "      <td>6.7</td>\n",
              "      <td>14.6</td>\n",
              "      <td>33</td>\n",
              "      <td>1.3</td>\n",
              "      <td>0.0</td>\n",
              "      <td>0.0</td>\n",
              "      <td>0</td>\n",
              "      <td>0</td>\n",
              "      <td>1</td>\n",
              "      <td>0</td>\n",
              "      <td>0</td>\n",
              "      <td>0</td>\n",
              "      <td>0</td>\n",
              "      <td>0</td>\n",
              "      <td>0</td>\n",
              "      <td>0</td>\n",
              "      <td>0</td>\n",
              "      <td>0</td>\n",
              "      <td>0</td>\n",
              "      <td>0</td>\n",
              "      <td>0</td>\n",
              "      <td>0</td>\n",
              "      <td>0</td>\n",
              "      <td>1</td>\n",
              "      <td>0</td>\n",
              "      <td>small</td>\n",
              "    </tr>\n",
              "    <tr>\n",
              "      <th>3</th>\n",
              "      <td>mar</td>\n",
              "      <td>fri</td>\n",
              "      <td>91.7</td>\n",
              "      <td>33.3</td>\n",
              "      <td>77.5</td>\n",
              "      <td>9.0</td>\n",
              "      <td>8.3</td>\n",
              "      <td>97</td>\n",
              "      <td>4.0</td>\n",
              "      <td>0.2</td>\n",
              "      <td>0.0</td>\n",
              "      <td>1</td>\n",
              "      <td>0</td>\n",
              "      <td>0</td>\n",
              "      <td>0</td>\n",
              "      <td>0</td>\n",
              "      <td>0</td>\n",
              "      <td>0</td>\n",
              "      <td>0</td>\n",
              "      <td>0</td>\n",
              "      <td>0</td>\n",
              "      <td>0</td>\n",
              "      <td>0</td>\n",
              "      <td>0</td>\n",
              "      <td>0</td>\n",
              "      <td>1</td>\n",
              "      <td>0</td>\n",
              "      <td>0</td>\n",
              "      <td>0</td>\n",
              "      <td>0</td>\n",
              "      <td>small</td>\n",
              "    </tr>\n",
              "    <tr>\n",
              "      <th>4</th>\n",
              "      <td>mar</td>\n",
              "      <td>sun</td>\n",
              "      <td>89.3</td>\n",
              "      <td>51.3</td>\n",
              "      <td>102.2</td>\n",
              "      <td>9.6</td>\n",
              "      <td>11.4</td>\n",
              "      <td>99</td>\n",
              "      <td>1.8</td>\n",
              "      <td>0.0</td>\n",
              "      <td>0.0</td>\n",
              "      <td>0</td>\n",
              "      <td>0</td>\n",
              "      <td>0</td>\n",
              "      <td>1</td>\n",
              "      <td>0</td>\n",
              "      <td>0</td>\n",
              "      <td>0</td>\n",
              "      <td>0</td>\n",
              "      <td>0</td>\n",
              "      <td>0</td>\n",
              "      <td>0</td>\n",
              "      <td>0</td>\n",
              "      <td>0</td>\n",
              "      <td>0</td>\n",
              "      <td>1</td>\n",
              "      <td>0</td>\n",
              "      <td>0</td>\n",
              "      <td>0</td>\n",
              "      <td>0</td>\n",
              "      <td>small</td>\n",
              "    </tr>\n",
              "  </tbody>\n",
              "</table>\n",
              "</div>"
            ],
            "text/plain": [
              "  month  day  FFMC   DMC  ...  monthnov  monthoct  monthsep  size_category\n",
              "0   mar  fri  86.2  26.2  ...         0         0         0          small\n",
              "1   oct  tue  90.6  35.4  ...         0         1         0          small\n",
              "2   oct  sat  90.6  43.7  ...         0         1         0          small\n",
              "3   mar  fri  91.7  33.3  ...         0         0         0          small\n",
              "4   mar  sun  89.3  51.3  ...         0         0         0          small\n",
              "\n",
              "[5 rows x 31 columns]"
            ]
          },
          "metadata": {
            "tags": []
          },
          "execution_count": 64
        }
      ]
    },
    {
      "cell_type": "code",
      "metadata": {
        "id": "VxsH8QbOzgRY"
      },
      "source": [
        "df1=df.drop(['month','day'],axis=1)"
      ],
      "execution_count": 65,
      "outputs": []
    },
    {
      "cell_type": "code",
      "metadata": {
        "id": "zhA3zjv-zgUp"
      },
      "source": [
        "from sklearn.preprocessing import LabelEncoder\n",
        "lb=LabelEncoder()"
      ],
      "execution_count": 66,
      "outputs": []
    },
    {
      "cell_type": "code",
      "metadata": {
        "id": "GG7P_o7EzgXy"
      },
      "source": [
        "df1['size_category']=lb.fit_transform(df1['size_category'])"
      ],
      "execution_count": 67,
      "outputs": []
    },
    {
      "cell_type": "code",
      "metadata": {
        "colab": {
          "base_uri": "https://localhost:8080/"
        },
        "id": "HLniRMeLzga0",
        "outputId": "a4f38ee8-dbbb-4a52-a182-e735be4cd186"
      },
      "source": [
        "df2=df1.values\n",
        "df2.shape"
      ],
      "execution_count": 68,
      "outputs": [
        {
          "output_type": "execute_result",
          "data": {
            "text/plain": [
              "(517, 29)"
            ]
          },
          "metadata": {
            "tags": []
          },
          "execution_count": 68
        }
      ]
    },
    {
      "cell_type": "code",
      "metadata": {
        "colab": {
          "base_uri": "https://localhost:8080/"
        },
        "id": "kLIJ--5hzgeA",
        "outputId": "ddafbdbd-6148-4472-cc2f-dd6268ec9f4d"
      },
      "source": [
        "x=df2[:,0:28]\n",
        "y=df2[:,-1]\n",
        "x.shape"
      ],
      "execution_count": 70,
      "outputs": [
        {
          "output_type": "execute_result",
          "data": {
            "text/plain": [
              "(517, 28)"
            ]
          },
          "metadata": {
            "tags": []
          },
          "execution_count": 70
        }
      ]
    },
    {
      "cell_type": "code",
      "metadata": {
        "id": "Mt_GI83Yzgg_"
      },
      "source": [
        "from sklearn.model_selection import GridSearchCV, KFold\n",
        "from keras.models import Sequential\n",
        "from keras.layers import Dense\n",
        "from keras.wrappers.scikit_learn import KerasClassifier\n",
        "from keras.optimizers import Adam"
      ],
      "execution_count": 71,
      "outputs": []
    },
    {
      "cell_type": "code",
      "metadata": {
        "id": "8JbzcWe-zgkI"
      },
      "source": [
        "model = Sequential()\n",
        "model.add(Dense(12, input_dim=28, activation='relu'))\n",
        "model.add(Dense(28, activation='relu'))\n",
        "model.add(Dense(1, activation='sigmoid'))"
      ],
      "execution_count": 72,
      "outputs": []
    },
    {
      "cell_type": "code",
      "metadata": {
        "id": "G6OphQBmzgnH"
      },
      "source": [
        "model.compile(loss='binary_crossentropy', optimizer='Adam', metrics=['accuracy'])"
      ],
      "execution_count": 73,
      "outputs": []
    },
    {
      "cell_type": "code",
      "metadata": {
        "colab": {
          "base_uri": "https://localhost:8080/"
        },
        "id": "h1nZGn-uzgqW",
        "outputId": "5082847d-de51-425e-8b23-1f0f93fbeea2"
      },
      "source": [
        "model.fit(x, y, validation_split=0.33,epochs=100, batch_size=5)"
      ],
      "execution_count": 74,
      "outputs": [
        {
          "output_type": "stream",
          "text": [
            "Epoch 1/100\n",
            "70/70 [==============================] - 15s 9ms/step - loss: 21.5497 - accuracy: 0.3872 - val_loss: 2.2843 - val_accuracy: 0.7076\n",
            "Epoch 2/100\n",
            "70/70 [==============================] - 0s 2ms/step - loss: 1.0004 - accuracy: 0.7566 - val_loss: 1.6665 - val_accuracy: 0.7310\n",
            "Epoch 3/100\n",
            "70/70 [==============================] - 0s 2ms/step - loss: 1.3070 - accuracy: 0.7629 - val_loss: 1.2377 - val_accuracy: 0.7485\n",
            "Epoch 4/100\n",
            "70/70 [==============================] - 0s 2ms/step - loss: 1.0078 - accuracy: 0.7746 - val_loss: 0.9915 - val_accuracy: 0.7719\n",
            "Epoch 5/100\n",
            "70/70 [==============================] - 0s 2ms/step - loss: 0.7095 - accuracy: 0.7202 - val_loss: 1.1543 - val_accuracy: 0.7602\n",
            "Epoch 6/100\n",
            "70/70 [==============================] - 0s 3ms/step - loss: 0.4562 - accuracy: 0.8178 - val_loss: 1.0229 - val_accuracy: 0.7602\n",
            "Epoch 7/100\n",
            "70/70 [==============================] - 0s 2ms/step - loss: 0.4626 - accuracy: 0.8262 - val_loss: 0.8270 - val_accuracy: 0.7661\n",
            "Epoch 8/100\n",
            "70/70 [==============================] - 0s 2ms/step - loss: 0.3909 - accuracy: 0.8275 - val_loss: 1.1657 - val_accuracy: 0.7544\n",
            "Epoch 9/100\n",
            "70/70 [==============================] - 0s 2ms/step - loss: 0.4383 - accuracy: 0.8587 - val_loss: 0.5550 - val_accuracy: 0.8421\n",
            "Epoch 10/100\n",
            "70/70 [==============================] - 0s 2ms/step - loss: 0.3094 - accuracy: 0.8826 - val_loss: 0.6126 - val_accuracy: 0.8363\n",
            "Epoch 11/100\n",
            "70/70 [==============================] - 0s 2ms/step - loss: 0.2861 - accuracy: 0.8806 - val_loss: 1.3659 - val_accuracy: 0.7719\n",
            "Epoch 12/100\n",
            "70/70 [==============================] - 0s 2ms/step - loss: 0.3842 - accuracy: 0.8548 - val_loss: 0.7420 - val_accuracy: 0.8129\n",
            "Epoch 13/100\n",
            "70/70 [==============================] - 0s 2ms/step - loss: 0.3102 - accuracy: 0.8778 - val_loss: 1.1181 - val_accuracy: 0.7953\n",
            "Epoch 14/100\n",
            "70/70 [==============================] - 0s 2ms/step - loss: 0.3455 - accuracy: 0.8636 - val_loss: 0.3012 - val_accuracy: 0.8947\n",
            "Epoch 15/100\n",
            "70/70 [==============================] - 0s 2ms/step - loss: 0.2165 - accuracy: 0.9253 - val_loss: 0.5820 - val_accuracy: 0.8246\n",
            "Epoch 16/100\n",
            "70/70 [==============================] - 0s 2ms/step - loss: 0.2247 - accuracy: 0.9251 - val_loss: 0.3857 - val_accuracy: 0.8655\n",
            "Epoch 17/100\n",
            "70/70 [==============================] - 0s 2ms/step - loss: 0.2037 - accuracy: 0.9204 - val_loss: 0.3009 - val_accuracy: 0.8889\n",
            "Epoch 18/100\n",
            "70/70 [==============================] - 0s 2ms/step - loss: 0.1777 - accuracy: 0.9499 - val_loss: 0.9400 - val_accuracy: 0.8187\n",
            "Epoch 19/100\n",
            "70/70 [==============================] - 0s 2ms/step - loss: 0.2050 - accuracy: 0.9168 - val_loss: 0.2123 - val_accuracy: 0.9123\n",
            "Epoch 20/100\n",
            "70/70 [==============================] - 0s 2ms/step - loss: 0.1584 - accuracy: 0.9492 - val_loss: 0.1994 - val_accuracy: 0.9240\n",
            "Epoch 21/100\n",
            "70/70 [==============================] - 0s 2ms/step - loss: 0.1365 - accuracy: 0.9547 - val_loss: 0.4010 - val_accuracy: 0.8772\n",
            "Epoch 22/100\n",
            "70/70 [==============================] - 0s 2ms/step - loss: 0.1211 - accuracy: 0.9617 - val_loss: 0.2881 - val_accuracy: 0.9123\n",
            "Epoch 23/100\n",
            "70/70 [==============================] - 0s 2ms/step - loss: 0.1262 - accuracy: 0.9650 - val_loss: 0.2026 - val_accuracy: 0.9123\n",
            "Epoch 24/100\n",
            "70/70 [==============================] - 0s 2ms/step - loss: 0.0831 - accuracy: 0.9794 - val_loss: 0.1562 - val_accuracy: 0.9181\n",
            "Epoch 25/100\n",
            "70/70 [==============================] - 0s 2ms/step - loss: 0.1049 - accuracy: 0.9611 - val_loss: 0.2900 - val_accuracy: 0.8889\n",
            "Epoch 26/100\n",
            "70/70 [==============================] - 0s 2ms/step - loss: 0.1128 - accuracy: 0.9612 - val_loss: 0.1229 - val_accuracy: 0.9415\n",
            "Epoch 27/100\n",
            "70/70 [==============================] - 0s 2ms/step - loss: 0.1214 - accuracy: 0.9424 - val_loss: 0.2267 - val_accuracy: 0.9123\n",
            "Epoch 28/100\n",
            "70/70 [==============================] - 0s 2ms/step - loss: 0.0943 - accuracy: 0.9690 - val_loss: 0.1438 - val_accuracy: 0.9649\n",
            "Epoch 29/100\n",
            "70/70 [==============================] - 0s 2ms/step - loss: 0.1152 - accuracy: 0.9712 - val_loss: 0.2090 - val_accuracy: 0.9064\n",
            "Epoch 30/100\n",
            "70/70 [==============================] - 0s 2ms/step - loss: 0.1124 - accuracy: 0.9630 - val_loss: 0.1413 - val_accuracy: 0.9649\n",
            "Epoch 31/100\n",
            "70/70 [==============================] - 0s 2ms/step - loss: 0.0912 - accuracy: 0.9696 - val_loss: 0.1302 - val_accuracy: 0.9357\n",
            "Epoch 32/100\n",
            "70/70 [==============================] - 0s 3ms/step - loss: 0.1700 - accuracy: 0.9484 - val_loss: 0.3655 - val_accuracy: 0.8830\n",
            "Epoch 33/100\n",
            "70/70 [==============================] - 0s 2ms/step - loss: 0.1164 - accuracy: 0.9687 - val_loss: 0.0962 - val_accuracy: 0.9532\n",
            "Epoch 34/100\n",
            "70/70 [==============================] - 0s 2ms/step - loss: 0.0814 - accuracy: 0.9847 - val_loss: 0.2944 - val_accuracy: 0.9006\n",
            "Epoch 35/100\n",
            "70/70 [==============================] - 0s 2ms/step - loss: 0.0713 - accuracy: 0.9822 - val_loss: 0.0879 - val_accuracy: 0.9591\n",
            "Epoch 36/100\n",
            "70/70 [==============================] - 0s 2ms/step - loss: 0.0456 - accuracy: 0.9897 - val_loss: 0.0847 - val_accuracy: 0.9532\n",
            "Epoch 37/100\n",
            "70/70 [==============================] - 0s 2ms/step - loss: 0.0646 - accuracy: 0.9773 - val_loss: 0.0947 - val_accuracy: 0.9474\n",
            "Epoch 38/100\n",
            "70/70 [==============================] - 0s 3ms/step - loss: 0.0532 - accuracy: 0.9814 - val_loss: 0.1168 - val_accuracy: 0.9532\n",
            "Epoch 39/100\n",
            "70/70 [==============================] - 0s 2ms/step - loss: 0.1000 - accuracy: 0.9718 - val_loss: 0.0832 - val_accuracy: 0.9766\n",
            "Epoch 40/100\n",
            "70/70 [==============================] - 0s 2ms/step - loss: 0.0606 - accuracy: 0.9783 - val_loss: 0.0766 - val_accuracy: 0.9708\n",
            "Epoch 41/100\n",
            "70/70 [==============================] - 0s 2ms/step - loss: 0.1041 - accuracy: 0.9658 - val_loss: 0.1013 - val_accuracy: 0.9649\n",
            "Epoch 42/100\n",
            "70/70 [==============================] - 0s 2ms/step - loss: 0.0508 - accuracy: 0.9726 - val_loss: 0.0955 - val_accuracy: 0.9532\n",
            "Epoch 43/100\n",
            "70/70 [==============================] - 0s 2ms/step - loss: 0.1296 - accuracy: 0.9668 - val_loss: 0.0884 - val_accuracy: 0.9708\n",
            "Epoch 44/100\n",
            "70/70 [==============================] - 0s 2ms/step - loss: 0.0690 - accuracy: 0.9626 - val_loss: 0.1111 - val_accuracy: 0.9649\n",
            "Epoch 45/100\n",
            "70/70 [==============================] - 0s 3ms/step - loss: 0.0976 - accuracy: 0.9757 - val_loss: 0.5452 - val_accuracy: 0.8772\n",
            "Epoch 46/100\n",
            "70/70 [==============================] - 0s 2ms/step - loss: 0.2578 - accuracy: 0.9484 - val_loss: 0.0898 - val_accuracy: 0.9591\n",
            "Epoch 47/100\n",
            "70/70 [==============================] - 0s 2ms/step - loss: 0.0424 - accuracy: 0.9813 - val_loss: 0.0690 - val_accuracy: 0.9708\n",
            "Epoch 48/100\n",
            "70/70 [==============================] - 0s 2ms/step - loss: 0.0408 - accuracy: 0.9868 - val_loss: 0.0990 - val_accuracy: 0.9708\n",
            "Epoch 49/100\n",
            "70/70 [==============================] - 0s 3ms/step - loss: 0.0487 - accuracy: 0.9818 - val_loss: 0.0690 - val_accuracy: 0.9766\n",
            "Epoch 50/100\n",
            "70/70 [==============================] - 0s 2ms/step - loss: 0.0485 - accuracy: 0.9874 - val_loss: 0.1005 - val_accuracy: 0.9649\n",
            "Epoch 51/100\n",
            "70/70 [==============================] - 0s 2ms/step - loss: 0.0382 - accuracy: 0.9841 - val_loss: 0.1133 - val_accuracy: 0.9532\n",
            "Epoch 52/100\n",
            "70/70 [==============================] - 0s 2ms/step - loss: 0.0415 - accuracy: 0.9835 - val_loss: 0.1193 - val_accuracy: 0.9591\n",
            "Epoch 53/100\n",
            "70/70 [==============================] - 0s 2ms/step - loss: 0.0416 - accuracy: 0.9898 - val_loss: 0.0878 - val_accuracy: 0.9766\n",
            "Epoch 54/100\n",
            "70/70 [==============================] - 0s 2ms/step - loss: 0.0290 - accuracy: 0.9896 - val_loss: 0.0901 - val_accuracy: 0.9708\n",
            "Epoch 55/100\n",
            "70/70 [==============================] - 0s 2ms/step - loss: 0.0502 - accuracy: 0.9819 - val_loss: 0.0661 - val_accuracy: 0.9649\n",
            "Epoch 56/100\n",
            "70/70 [==============================] - 0s 2ms/step - loss: 0.1179 - accuracy: 0.9591 - val_loss: 0.0724 - val_accuracy: 0.9708\n",
            "Epoch 57/100\n",
            "70/70 [==============================] - 0s 2ms/step - loss: 0.0398 - accuracy: 0.9816 - val_loss: 0.2702 - val_accuracy: 0.9064\n",
            "Epoch 58/100\n",
            "70/70 [==============================] - 0s 2ms/step - loss: 0.0566 - accuracy: 0.9810 - val_loss: 0.0805 - val_accuracy: 0.9591\n",
            "Epoch 59/100\n",
            "70/70 [==============================] - 0s 2ms/step - loss: 0.0251 - accuracy: 0.9914 - val_loss: 0.0883 - val_accuracy: 0.9649\n",
            "Epoch 60/100\n",
            "70/70 [==============================] - 0s 2ms/step - loss: 0.0332 - accuracy: 0.9917 - val_loss: 0.0986 - val_accuracy: 0.9649\n",
            "Epoch 61/100\n",
            "70/70 [==============================] - 0s 2ms/step - loss: 0.0718 - accuracy: 0.9755 - val_loss: 0.0739 - val_accuracy: 0.9591\n",
            "Epoch 62/100\n",
            "70/70 [==============================] - 0s 2ms/step - loss: 0.0224 - accuracy: 0.9948 - val_loss: 0.0696 - val_accuracy: 0.9649\n",
            "Epoch 63/100\n",
            "70/70 [==============================] - 0s 2ms/step - loss: 0.0231 - accuracy: 0.9976 - val_loss: 0.1125 - val_accuracy: 0.9591\n",
            "Epoch 64/100\n",
            "70/70 [==============================] - 0s 3ms/step - loss: 0.1389 - accuracy: 0.9359 - val_loss: 0.2895 - val_accuracy: 0.9064\n",
            "Epoch 65/100\n",
            "70/70 [==============================] - 0s 2ms/step - loss: 0.1792 - accuracy: 0.9352 - val_loss: 0.0663 - val_accuracy: 0.9649\n",
            "Epoch 66/100\n",
            "70/70 [==============================] - 0s 2ms/step - loss: 0.0443 - accuracy: 0.9842 - val_loss: 0.2531 - val_accuracy: 0.9181\n",
            "Epoch 67/100\n",
            "70/70 [==============================] - 0s 3ms/step - loss: 0.0734 - accuracy: 0.9754 - val_loss: 0.0809 - val_accuracy: 0.9532\n",
            "Epoch 68/100\n",
            "70/70 [==============================] - 0s 2ms/step - loss: 0.0616 - accuracy: 0.9733 - val_loss: 0.0701 - val_accuracy: 0.9474\n",
            "Epoch 69/100\n",
            "70/70 [==============================] - 0s 2ms/step - loss: 0.0655 - accuracy: 0.9727 - val_loss: 0.1055 - val_accuracy: 0.9474\n",
            "Epoch 70/100\n",
            "70/70 [==============================] - 0s 2ms/step - loss: 0.0748 - accuracy: 0.9740 - val_loss: 0.1002 - val_accuracy: 0.9532\n",
            "Epoch 71/100\n",
            "70/70 [==============================] - 0s 2ms/step - loss: 0.0757 - accuracy: 0.9741 - val_loss: 0.2816 - val_accuracy: 0.9006\n",
            "Epoch 72/100\n",
            "70/70 [==============================] - 0s 2ms/step - loss: 0.0425 - accuracy: 0.9826 - val_loss: 0.0651 - val_accuracy: 0.9591\n",
            "Epoch 73/100\n",
            "70/70 [==============================] - 0s 2ms/step - loss: 0.0392 - accuracy: 0.9894 - val_loss: 0.0993 - val_accuracy: 0.9591\n",
            "Epoch 74/100\n",
            "70/70 [==============================] - 0s 2ms/step - loss: 0.0178 - accuracy: 0.9972 - val_loss: 0.1439 - val_accuracy: 0.9532\n",
            "Epoch 75/100\n",
            "70/70 [==============================] - 0s 2ms/step - loss: 0.0915 - accuracy: 0.9765 - val_loss: 0.0719 - val_accuracy: 0.9591\n",
            "Epoch 76/100\n",
            "70/70 [==============================] - 0s 2ms/step - loss: 0.0746 - accuracy: 0.9778 - val_loss: 0.0670 - val_accuracy: 0.9532\n",
            "Epoch 77/100\n",
            "70/70 [==============================] - 0s 2ms/step - loss: 0.0487 - accuracy: 0.9846 - val_loss: 0.0692 - val_accuracy: 0.9649\n",
            "Epoch 78/100\n",
            "70/70 [==============================] - 0s 2ms/step - loss: 0.1361 - accuracy: 0.9654 - val_loss: 0.1451 - val_accuracy: 0.9474\n",
            "Epoch 79/100\n",
            "70/70 [==============================] - 0s 2ms/step - loss: 0.0573 - accuracy: 0.9600 - val_loss: 0.1135 - val_accuracy: 0.9474\n",
            "Epoch 80/100\n",
            "70/70 [==============================] - 0s 2ms/step - loss: 0.0478 - accuracy: 0.9815 - val_loss: 0.1369 - val_accuracy: 0.9474\n",
            "Epoch 81/100\n",
            "70/70 [==============================] - 0s 2ms/step - loss: 0.0327 - accuracy: 0.9893 - val_loss: 0.1247 - val_accuracy: 0.9532\n",
            "Epoch 82/100\n",
            "70/70 [==============================] - 0s 3ms/step - loss: 0.0540 - accuracy: 0.9704 - val_loss: 0.1476 - val_accuracy: 0.9474\n",
            "Epoch 83/100\n",
            "70/70 [==============================] - 0s 2ms/step - loss: 0.0346 - accuracy: 0.9844 - val_loss: 0.0964 - val_accuracy: 0.9591\n",
            "Epoch 84/100\n",
            "70/70 [==============================] - 0s 2ms/step - loss: 0.0233 - accuracy: 0.9914 - val_loss: 0.0797 - val_accuracy: 0.9474\n",
            "Epoch 85/100\n",
            "70/70 [==============================] - 0s 2ms/step - loss: 0.0466 - accuracy: 0.9861 - val_loss: 0.1766 - val_accuracy: 0.9415\n",
            "Epoch 86/100\n",
            "70/70 [==============================] - 0s 3ms/step - loss: 0.0580 - accuracy: 0.9882 - val_loss: 0.1007 - val_accuracy: 0.9532\n",
            "Epoch 87/100\n",
            "70/70 [==============================] - 0s 2ms/step - loss: 0.0319 - accuracy: 0.9794 - val_loss: 0.1046 - val_accuracy: 0.9591\n",
            "Epoch 88/100\n",
            "70/70 [==============================] - 0s 3ms/step - loss: 0.0484 - accuracy: 0.9723 - val_loss: 0.0958 - val_accuracy: 0.9591\n",
            "Epoch 89/100\n",
            "70/70 [==============================] - 0s 2ms/step - loss: 0.0340 - accuracy: 0.9896 - val_loss: 0.0756 - val_accuracy: 0.9532\n",
            "Epoch 90/100\n",
            "70/70 [==============================] - 0s 2ms/step - loss: 0.0182 - accuracy: 0.9932 - val_loss: 0.1073 - val_accuracy: 0.9474\n",
            "Epoch 91/100\n",
            "70/70 [==============================] - 0s 2ms/step - loss: 0.0320 - accuracy: 0.9883 - val_loss: 0.0703 - val_accuracy: 0.9474\n",
            "Epoch 92/100\n",
            "70/70 [==============================] - 0s 2ms/step - loss: 0.0240 - accuracy: 0.9922 - val_loss: 0.0791 - val_accuracy: 0.9532\n",
            "Epoch 93/100\n",
            "70/70 [==============================] - 0s 2ms/step - loss: 0.0195 - accuracy: 0.9982 - val_loss: 0.1099 - val_accuracy: 0.9591\n",
            "Epoch 94/100\n",
            "70/70 [==============================] - 0s 2ms/step - loss: 0.0324 - accuracy: 0.9898 - val_loss: 0.1167 - val_accuracy: 0.9591\n",
            "Epoch 95/100\n",
            "70/70 [==============================] - 0s 2ms/step - loss: 0.0557 - accuracy: 0.9647 - val_loss: 0.0692 - val_accuracy: 0.9532\n",
            "Epoch 96/100\n",
            "70/70 [==============================] - 0s 2ms/step - loss: 0.0941 - accuracy: 0.9618 - val_loss: 0.1254 - val_accuracy: 0.9591\n",
            "Epoch 97/100\n",
            "70/70 [==============================] - 0s 2ms/step - loss: 0.0197 - accuracy: 0.9896 - val_loss: 0.1478 - val_accuracy: 0.9474\n",
            "Epoch 98/100\n",
            "70/70 [==============================] - 0s 2ms/step - loss: 0.0444 - accuracy: 0.9815 - val_loss: 0.0852 - val_accuracy: 0.9532\n",
            "Epoch 99/100\n",
            "70/70 [==============================] - 0s 2ms/step - loss: 0.0388 - accuracy: 0.9736 - val_loss: 0.1958 - val_accuracy: 0.9532\n",
            "Epoch 100/100\n",
            "70/70 [==============================] - 0s 2ms/step - loss: 0.0629 - accuracy: 0.9654 - val_loss: 0.1800 - val_accuracy: 0.9415\n"
          ],
          "name": "stdout"
        },
        {
          "output_type": "execute_result",
          "data": {
            "text/plain": [
              "<keras.callbacks.History at 0x7feaf14c8290>"
            ]
          },
          "metadata": {
            "tags": []
          },
          "execution_count": 74
        }
      ]
    },
    {
      "cell_type": "code",
      "metadata": {
        "colab": {
          "base_uri": "https://localhost:8080/"
        },
        "id": "xxCLHReWzgto",
        "outputId": "f61a09f1-b0f6-4d3d-a646-a226ceb9a72a"
      },
      "source": [
        "scores=model.evaluate(x,y)\n",
        "print(\"%s: %.2f%%\" % (model.metrics_names[1], scores[1]*100))"
      ],
      "execution_count": 75,
      "outputs": [
        {
          "output_type": "stream",
          "text": [
            "17/17 [==============================] - 0s 1ms/step - loss: 0.1109 - accuracy: 0.9536\n",
            "accuracy: 95.36%\n"
          ],
          "name": "stdout"
        }
      ]
    },
    {
      "cell_type": "markdown",
      "metadata": {
        "id": "g53L5lu67YJX"
      },
      "source": [
        "##**Gas_turbines**"
      ]
    },
    {
      "cell_type": "code",
      "metadata": {
        "colab": {
          "base_uri": "https://localhost:8080/",
          "height": 419
        },
        "id": "glkkLuY11lm3",
        "outputId": "5192d2ff-2745-42fc-d982-72ca5e8e1298"
      },
      "source": [
        "gs=pd.read_csv(\"gas_turbines.csv\")\n",
        "gs"
      ],
      "execution_count": 76,
      "outputs": [
        {
          "output_type": "execute_result",
          "data": {
            "text/html": [
              "<div>\n",
              "<style scoped>\n",
              "    .dataframe tbody tr th:only-of-type {\n",
              "        vertical-align: middle;\n",
              "    }\n",
              "\n",
              "    .dataframe tbody tr th {\n",
              "        vertical-align: top;\n",
              "    }\n",
              "\n",
              "    .dataframe thead th {\n",
              "        text-align: right;\n",
              "    }\n",
              "</style>\n",
              "<table border=\"1\" class=\"dataframe\">\n",
              "  <thead>\n",
              "    <tr style=\"text-align: right;\">\n",
              "      <th></th>\n",
              "      <th>AT</th>\n",
              "      <th>AP</th>\n",
              "      <th>AH</th>\n",
              "      <th>AFDP</th>\n",
              "      <th>GTEP</th>\n",
              "      <th>TIT</th>\n",
              "      <th>TAT</th>\n",
              "      <th>TEY</th>\n",
              "      <th>CDP</th>\n",
              "      <th>CO</th>\n",
              "      <th>NOX</th>\n",
              "    </tr>\n",
              "  </thead>\n",
              "  <tbody>\n",
              "    <tr>\n",
              "      <th>0</th>\n",
              "      <td>6.8594</td>\n",
              "      <td>1007.9</td>\n",
              "      <td>96.799</td>\n",
              "      <td>3.5000</td>\n",
              "      <td>19.663</td>\n",
              "      <td>1059.2</td>\n",
              "      <td>550.00</td>\n",
              "      <td>114.70</td>\n",
              "      <td>10.605</td>\n",
              "      <td>3.1547</td>\n",
              "      <td>82.722</td>\n",
              "    </tr>\n",
              "    <tr>\n",
              "      <th>1</th>\n",
              "      <td>6.7850</td>\n",
              "      <td>1008.4</td>\n",
              "      <td>97.118</td>\n",
              "      <td>3.4998</td>\n",
              "      <td>19.728</td>\n",
              "      <td>1059.3</td>\n",
              "      <td>550.00</td>\n",
              "      <td>114.72</td>\n",
              "      <td>10.598</td>\n",
              "      <td>3.2363</td>\n",
              "      <td>82.776</td>\n",
              "    </tr>\n",
              "    <tr>\n",
              "      <th>2</th>\n",
              "      <td>6.8977</td>\n",
              "      <td>1008.8</td>\n",
              "      <td>95.939</td>\n",
              "      <td>3.4824</td>\n",
              "      <td>19.779</td>\n",
              "      <td>1059.4</td>\n",
              "      <td>549.87</td>\n",
              "      <td>114.71</td>\n",
              "      <td>10.601</td>\n",
              "      <td>3.2012</td>\n",
              "      <td>82.468</td>\n",
              "    </tr>\n",
              "    <tr>\n",
              "      <th>3</th>\n",
              "      <td>7.0569</td>\n",
              "      <td>1009.2</td>\n",
              "      <td>95.249</td>\n",
              "      <td>3.4805</td>\n",
              "      <td>19.792</td>\n",
              "      <td>1059.6</td>\n",
              "      <td>549.99</td>\n",
              "      <td>114.72</td>\n",
              "      <td>10.606</td>\n",
              "      <td>3.1923</td>\n",
              "      <td>82.670</td>\n",
              "    </tr>\n",
              "    <tr>\n",
              "      <th>4</th>\n",
              "      <td>7.3978</td>\n",
              "      <td>1009.7</td>\n",
              "      <td>95.150</td>\n",
              "      <td>3.4976</td>\n",
              "      <td>19.765</td>\n",
              "      <td>1059.7</td>\n",
              "      <td>549.98</td>\n",
              "      <td>114.72</td>\n",
              "      <td>10.612</td>\n",
              "      <td>3.2484</td>\n",
              "      <td>82.311</td>\n",
              "    </tr>\n",
              "    <tr>\n",
              "      <th>...</th>\n",
              "      <td>...</td>\n",
              "      <td>...</td>\n",
              "      <td>...</td>\n",
              "      <td>...</td>\n",
              "      <td>...</td>\n",
              "      <td>...</td>\n",
              "      <td>...</td>\n",
              "      <td>...</td>\n",
              "      <td>...</td>\n",
              "      <td>...</td>\n",
              "      <td>...</td>\n",
              "    </tr>\n",
              "    <tr>\n",
              "      <th>15034</th>\n",
              "      <td>9.0301</td>\n",
              "      <td>1005.6</td>\n",
              "      <td>98.460</td>\n",
              "      <td>3.5421</td>\n",
              "      <td>19.164</td>\n",
              "      <td>1049.7</td>\n",
              "      <td>546.21</td>\n",
              "      <td>111.61</td>\n",
              "      <td>10.400</td>\n",
              "      <td>4.5186</td>\n",
              "      <td>79.559</td>\n",
              "    </tr>\n",
              "    <tr>\n",
              "      <th>15035</th>\n",
              "      <td>7.8879</td>\n",
              "      <td>1005.9</td>\n",
              "      <td>99.093</td>\n",
              "      <td>3.5059</td>\n",
              "      <td>19.414</td>\n",
              "      <td>1046.3</td>\n",
              "      <td>543.22</td>\n",
              "      <td>111.78</td>\n",
              "      <td>10.433</td>\n",
              "      <td>4.8470</td>\n",
              "      <td>79.917</td>\n",
              "    </tr>\n",
              "    <tr>\n",
              "      <th>15036</th>\n",
              "      <td>7.2647</td>\n",
              "      <td>1006.3</td>\n",
              "      <td>99.496</td>\n",
              "      <td>3.4770</td>\n",
              "      <td>19.530</td>\n",
              "      <td>1037.7</td>\n",
              "      <td>537.32</td>\n",
              "      <td>110.19</td>\n",
              "      <td>10.483</td>\n",
              "      <td>7.9632</td>\n",
              "      <td>90.912</td>\n",
              "    </tr>\n",
              "    <tr>\n",
              "      <th>15037</th>\n",
              "      <td>7.0060</td>\n",
              "      <td>1006.8</td>\n",
              "      <td>99.008</td>\n",
              "      <td>3.4486</td>\n",
              "      <td>19.377</td>\n",
              "      <td>1043.2</td>\n",
              "      <td>541.24</td>\n",
              "      <td>110.74</td>\n",
              "      <td>10.533</td>\n",
              "      <td>6.2494</td>\n",
              "      <td>93.227</td>\n",
              "    </tr>\n",
              "    <tr>\n",
              "      <th>15038</th>\n",
              "      <td>6.9279</td>\n",
              "      <td>1007.2</td>\n",
              "      <td>97.533</td>\n",
              "      <td>3.4275</td>\n",
              "      <td>19.306</td>\n",
              "      <td>1049.9</td>\n",
              "      <td>545.85</td>\n",
              "      <td>111.58</td>\n",
              "      <td>10.583</td>\n",
              "      <td>4.9816</td>\n",
              "      <td>92.498</td>\n",
              "    </tr>\n",
              "  </tbody>\n",
              "</table>\n",
              "<p>15039 rows × 11 columns</p>\n",
              "</div>"
            ],
            "text/plain": [
              "           AT      AP      AH    AFDP  ...     TEY     CDP      CO     NOX\n",
              "0      6.8594  1007.9  96.799  3.5000  ...  114.70  10.605  3.1547  82.722\n",
              "1      6.7850  1008.4  97.118  3.4998  ...  114.72  10.598  3.2363  82.776\n",
              "2      6.8977  1008.8  95.939  3.4824  ...  114.71  10.601  3.2012  82.468\n",
              "3      7.0569  1009.2  95.249  3.4805  ...  114.72  10.606  3.1923  82.670\n",
              "4      7.3978  1009.7  95.150  3.4976  ...  114.72  10.612  3.2484  82.311\n",
              "...       ...     ...     ...     ...  ...     ...     ...     ...     ...\n",
              "15034  9.0301  1005.6  98.460  3.5421  ...  111.61  10.400  4.5186  79.559\n",
              "15035  7.8879  1005.9  99.093  3.5059  ...  111.78  10.433  4.8470  79.917\n",
              "15036  7.2647  1006.3  99.496  3.4770  ...  110.19  10.483  7.9632  90.912\n",
              "15037  7.0060  1006.8  99.008  3.4486  ...  110.74  10.533  6.2494  93.227\n",
              "15038  6.9279  1007.2  97.533  3.4275  ...  111.58  10.583  4.9816  92.498\n",
              "\n",
              "[15039 rows x 11 columns]"
            ]
          },
          "metadata": {
            "tags": []
          },
          "execution_count": 76
        }
      ]
    },
    {
      "cell_type": "code",
      "metadata": {
        "colab": {
          "base_uri": "https://localhost:8080/"
        },
        "id": "3S4jNHzT1lup",
        "outputId": "4dbbd66f-9543-44d9-f481-2f8d55ea9730"
      },
      "source": [
        "gs1=gs.values\n",
        "gs1"
      ],
      "execution_count": 77,
      "outputs": [
        {
          "output_type": "execute_result",
          "data": {
            "text/plain": [
              "array([[   6.8594, 1007.9   ,   96.799 , ...,   10.605 ,    3.1547,\n",
              "          82.722 ],\n",
              "       [   6.785 , 1008.4   ,   97.118 , ...,   10.598 ,    3.2363,\n",
              "          82.776 ],\n",
              "       [   6.8977, 1008.8   ,   95.939 , ...,   10.601 ,    3.2012,\n",
              "          82.468 ],\n",
              "       ...,\n",
              "       [   7.2647, 1006.3   ,   99.496 , ...,   10.483 ,    7.9632,\n",
              "          90.912 ],\n",
              "       [   7.006 , 1006.8   ,   99.008 , ...,   10.533 ,    6.2494,\n",
              "          93.227 ],\n",
              "       [   6.9279, 1007.2   ,   97.533 , ...,   10.583 ,    4.9816,\n",
              "          92.498 ]])"
            ]
          },
          "metadata": {
            "tags": []
          },
          "execution_count": 77
        }
      ]
    },
    {
      "cell_type": "code",
      "metadata": {
        "colab": {
          "base_uri": "https://localhost:8080/"
        },
        "id": "bAYDF8IC7fOm",
        "outputId": "db936908-35fc-4f39-d9dd-a7d72609efe2"
      },
      "source": [
        "X=gs1[:,[0,1,2,3,4,5,6,8,9,10]]\n",
        "Y=gs1[:,-4]\n",
        "X"
      ],
      "execution_count": 78,
      "outputs": [
        {
          "output_type": "execute_result",
          "data": {
            "text/plain": [
              "array([[   6.8594, 1007.9   ,   96.799 , ...,   10.605 ,    3.1547,\n",
              "          82.722 ],\n",
              "       [   6.785 , 1008.4   ,   97.118 , ...,   10.598 ,    3.2363,\n",
              "          82.776 ],\n",
              "       [   6.8977, 1008.8   ,   95.939 , ...,   10.601 ,    3.2012,\n",
              "          82.468 ],\n",
              "       ...,\n",
              "       [   7.2647, 1006.3   ,   99.496 , ...,   10.483 ,    7.9632,\n",
              "          90.912 ],\n",
              "       [   7.006 , 1006.8   ,   99.008 , ...,   10.533 ,    6.2494,\n",
              "          93.227 ],\n",
              "       [   6.9279, 1007.2   ,   97.533 , ...,   10.583 ,    4.9816,\n",
              "          92.498 ]])"
            ]
          },
          "metadata": {
            "tags": []
          },
          "execution_count": 78
        }
      ]
    },
    {
      "cell_type": "code",
      "metadata": {
        "id": "kJpzJHxf7fRc"
      },
      "source": [
        "from sklearn.model_selection import train_test_split\n",
        "x_train, x_test, y_train, y_test = train_test_split(X,Y,test_size=0.25,random_state=101)"
      ],
      "execution_count": 79,
      "outputs": []
    },
    {
      "cell_type": "code",
      "metadata": {
        "colab": {
          "base_uri": "https://localhost:8080/"
        },
        "id": "XwE8KmGJ7fUL",
        "outputId": "289ca37f-cde5-4d5a-bd32-4fd807d434cd"
      },
      "source": [
        "from sklearn.preprocessing import MinMaxScaler\n",
        "scaler=MinMaxScaler()\n",
        "scaler.fit(x_train)"
      ],
      "execution_count": 80,
      "outputs": [
        {
          "output_type": "execute_result",
          "data": {
            "text/plain": [
              "MinMaxScaler(copy=True, feature_range=(0, 1))"
            ]
          },
          "metadata": {
            "tags": []
          },
          "execution_count": 80
        }
      ]
    },
    {
      "cell_type": "code",
      "metadata": {
        "colab": {
          "base_uri": "https://localhost:8080/"
        },
        "id": "tmbwBt-A7fXD",
        "outputId": "09047822-aa69-4254-f4cc-c6abfa04e558"
      },
      "source": [
        "x_train=scaler.transform(x_train)\n",
        "x_test=scaler.transform(x_test)\n",
        "x_test"
      ],
      "execution_count": 81,
      "outputs": [
        {
          "output_type": "execute_result",
          "data": {
            "text/plain": [
              "array([[0.35890393, 0.40602285, 0.91801706, ..., 0.34107329, 0.03084967,\n",
              "        0.48475958],\n",
              "       [0.55162803, 0.59086189, 0.72785444, ..., 0.42819611, 0.02833486,\n",
              "        0.43366477],\n",
              "       [0.69430373, 0.53478712, 0.55215014, ..., 0.14847583, 0.15186537,\n",
              "        0.33822331],\n",
              "       ...,\n",
              "       [0.29923532, 0.48494289, 0.94876603, ..., 0.77514199, 0.00101504,\n",
              "        0.41400706],\n",
              "       [0.64399376, 0.35825545, 0.50904718, ..., 0.04705791, 0.10100297,\n",
              "        0.36756316],\n",
              "       [0.3486443 , 0.24340602, 0.81637941, ..., 0.34416412, 0.00787964,\n",
              "        0.54170062]])"
            ]
          },
          "metadata": {
            "tags": []
          },
          "execution_count": 81
        }
      ]
    },
    {
      "cell_type": "code",
      "metadata": {
        "id": "RXWLh8Td7fZp"
      },
      "source": [
        "model = Sequential()\n",
        "model.add(Dense(10, activation='relu'))\n",
        "model.add(Dense(10, activation='relu'))\n",
        "model.add(Dense(10, activation='relu'))\n",
        "# add nodes for prediction\n",
        "model.add(Dense(1))"
      ],
      "execution_count": 82,
      "outputs": []
    },
    {
      "cell_type": "code",
      "metadata": {
        "id": "EXw9oztc7fcU"
      },
      "source": [
        "model.compile(optimizer='rmsprop',loss='mse')"
      ],
      "execution_count": 83,
      "outputs": []
    },
    {
      "cell_type": "code",
      "metadata": {
        "colab": {
          "base_uri": "https://localhost:8080/"
        },
        "id": "vkK229FW7ffx",
        "outputId": "4bf31ce0-e10e-4eb1-a3fe-86b3e925693b"
      },
      "source": [
        "# Fit the model\n",
        "model.fit(x_train, y_train, epochs=250)"
      ],
      "execution_count": 84,
      "outputs": [
        {
          "output_type": "stream",
          "text": [
            "Epoch 1/250\n",
            "353/353 [==============================] - 8s 1ms/step - loss: 17244.2080\n",
            "Epoch 2/250\n",
            "353/353 [==============================] - 0s 1ms/step - loss: 5093.6027\n",
            "Epoch 3/250\n",
            "353/353 [==============================] - 0s 1ms/step - loss: 39.4441\n",
            "Epoch 4/250\n",
            "353/353 [==============================] - 0s 1ms/step - loss: 23.3200\n",
            "Epoch 5/250\n",
            "353/353 [==============================] - 0s 1ms/step - loss: 19.8763\n",
            "Epoch 6/250\n",
            "353/353 [==============================] - 0s 1ms/step - loss: 16.8460\n",
            "Epoch 7/250\n",
            "353/353 [==============================] - 0s 1ms/step - loss: 15.0933\n",
            "Epoch 8/250\n",
            "353/353 [==============================] - 0s 1ms/step - loss: 13.2988\n",
            "Epoch 9/250\n",
            "353/353 [==============================] - 0s 1ms/step - loss: 11.7558\n",
            "Epoch 10/250\n",
            "353/353 [==============================] - 0s 1ms/step - loss: 9.9350\n",
            "Epoch 11/250\n",
            "353/353 [==============================] - 0s 1ms/step - loss: 8.7364\n",
            "Epoch 12/250\n",
            "353/353 [==============================] - 0s 1ms/step - loss: 7.6265\n",
            "Epoch 13/250\n",
            "353/353 [==============================] - 0s 1ms/step - loss: 6.4774\n",
            "Epoch 14/250\n",
            "353/353 [==============================] - 0s 1ms/step - loss: 5.5873\n",
            "Epoch 15/250\n",
            "353/353 [==============================] - 0s 1ms/step - loss: 4.6935\n",
            "Epoch 16/250\n",
            "353/353 [==============================] - 0s 1ms/step - loss: 3.8765\n",
            "Epoch 17/250\n",
            "353/353 [==============================] - 0s 1ms/step - loss: 3.1568\n",
            "Epoch 18/250\n",
            "353/353 [==============================] - 0s 1ms/step - loss: 2.6173\n",
            "Epoch 19/250\n",
            "353/353 [==============================] - 0s 1ms/step - loss: 2.1086\n",
            "Epoch 20/250\n",
            "353/353 [==============================] - 0s 1ms/step - loss: 1.7234\n",
            "Epoch 21/250\n",
            "353/353 [==============================] - 0s 1ms/step - loss: 1.4594\n",
            "Epoch 22/250\n",
            "353/353 [==============================] - 0s 1ms/step - loss: 1.1944\n",
            "Epoch 23/250\n",
            "353/353 [==============================] - 0s 1ms/step - loss: 1.0915\n",
            "Epoch 24/250\n",
            "353/353 [==============================] - 0s 1ms/step - loss: 0.9797\n",
            "Epoch 25/250\n",
            "353/353 [==============================] - 0s 1ms/step - loss: 0.9650\n",
            "Epoch 26/250\n",
            "353/353 [==============================] - 0s 1ms/step - loss: 0.9231\n",
            "Epoch 27/250\n",
            "353/353 [==============================] - 0s 1ms/step - loss: 0.9101\n",
            "Epoch 28/250\n",
            "353/353 [==============================] - 0s 1ms/step - loss: 0.8752\n",
            "Epoch 29/250\n",
            "353/353 [==============================] - 0s 1ms/step - loss: 0.8796\n",
            "Epoch 30/250\n",
            "353/353 [==============================] - 0s 1ms/step - loss: 0.8346\n",
            "Epoch 31/250\n",
            "353/353 [==============================] - 0s 1ms/step - loss: 0.8437\n",
            "Epoch 32/250\n",
            "353/353 [==============================] - 0s 1ms/step - loss: 0.8695\n",
            "Epoch 33/250\n",
            "353/353 [==============================] - 0s 1ms/step - loss: 0.8755\n",
            "Epoch 34/250\n",
            "353/353 [==============================] - 0s 1ms/step - loss: 0.8235\n",
            "Epoch 35/250\n",
            "353/353 [==============================] - 0s 1ms/step - loss: 0.8790\n",
            "Epoch 36/250\n",
            "353/353 [==============================] - 0s 1ms/step - loss: 0.8602\n",
            "Epoch 37/250\n",
            "353/353 [==============================] - 0s 1ms/step - loss: 0.8793\n",
            "Epoch 38/250\n",
            "353/353 [==============================] - 0s 1ms/step - loss: 0.8378\n",
            "Epoch 39/250\n",
            "353/353 [==============================] - 0s 1ms/step - loss: 0.8924\n",
            "Epoch 40/250\n",
            "353/353 [==============================] - 0s 1ms/step - loss: 0.8333\n",
            "Epoch 41/250\n",
            "353/353 [==============================] - 0s 1ms/step - loss: 0.8408\n",
            "Epoch 42/250\n",
            "353/353 [==============================] - 0s 1ms/step - loss: 0.8142\n",
            "Epoch 43/250\n",
            "353/353 [==============================] - 0s 1ms/step - loss: 0.8110\n",
            "Epoch 44/250\n",
            "353/353 [==============================] - 0s 1ms/step - loss: 0.8399\n",
            "Epoch 45/250\n",
            "353/353 [==============================] - 0s 1ms/step - loss: 0.8534\n",
            "Epoch 46/250\n",
            "353/353 [==============================] - 0s 1ms/step - loss: 0.8183\n",
            "Epoch 47/250\n",
            "353/353 [==============================] - 0s 1ms/step - loss: 0.8534\n",
            "Epoch 48/250\n",
            "353/353 [==============================] - 0s 1ms/step - loss: 0.8135\n",
            "Epoch 49/250\n",
            "353/353 [==============================] - 0s 1ms/step - loss: 0.8015\n",
            "Epoch 50/250\n",
            "353/353 [==============================] - 0s 1ms/step - loss: 0.8348\n",
            "Epoch 51/250\n",
            "353/353 [==============================] - 0s 1ms/step - loss: 0.8255\n",
            "Epoch 52/250\n",
            "353/353 [==============================] - 0s 1ms/step - loss: 0.8425\n",
            "Epoch 53/250\n",
            "353/353 [==============================] - 0s 1ms/step - loss: 0.8262\n",
            "Epoch 54/250\n",
            "353/353 [==============================] - 0s 1ms/step - loss: 0.8340\n",
            "Epoch 55/250\n",
            "353/353 [==============================] - 0s 1ms/step - loss: 0.8092\n",
            "Epoch 56/250\n",
            "353/353 [==============================] - 0s 1ms/step - loss: 0.8487\n",
            "Epoch 57/250\n",
            "353/353 [==============================] - 0s 1ms/step - loss: 0.8169\n",
            "Epoch 58/250\n",
            "353/353 [==============================] - 0s 1ms/step - loss: 0.8437\n",
            "Epoch 59/250\n",
            "353/353 [==============================] - 0s 1ms/step - loss: 0.8093\n",
            "Epoch 60/250\n",
            "353/353 [==============================] - 0s 1ms/step - loss: 0.8511\n",
            "Epoch 61/250\n",
            "353/353 [==============================] - 0s 1ms/step - loss: 0.8524\n",
            "Epoch 62/250\n",
            "353/353 [==============================] - 0s 1ms/step - loss: 0.8193\n",
            "Epoch 63/250\n",
            "353/353 [==============================] - 0s 1ms/step - loss: 0.8226\n",
            "Epoch 64/250\n",
            "353/353 [==============================] - 0s 1ms/step - loss: 0.8201\n",
            "Epoch 65/250\n",
            "353/353 [==============================] - 0s 1ms/step - loss: 0.8107\n",
            "Epoch 66/250\n",
            "353/353 [==============================] - 0s 1ms/step - loss: 0.8452\n",
            "Epoch 67/250\n",
            "353/353 [==============================] - 0s 1ms/step - loss: 0.8154\n",
            "Epoch 68/250\n",
            "353/353 [==============================] - 0s 1ms/step - loss: 0.8085\n",
            "Epoch 69/250\n",
            "353/353 [==============================] - 0s 1ms/step - loss: 0.8224\n",
            "Epoch 70/250\n",
            "353/353 [==============================] - 0s 1ms/step - loss: 0.8077\n",
            "Epoch 71/250\n",
            "353/353 [==============================] - 0s 1ms/step - loss: 0.7976\n",
            "Epoch 72/250\n",
            "353/353 [==============================] - 0s 1ms/step - loss: 0.8051\n",
            "Epoch 73/250\n",
            "353/353 [==============================] - 0s 1ms/step - loss: 0.8063\n",
            "Epoch 74/250\n",
            "353/353 [==============================] - 0s 1ms/step - loss: 0.8188\n",
            "Epoch 75/250\n",
            "353/353 [==============================] - 0s 1ms/step - loss: 0.8312\n",
            "Epoch 76/250\n",
            "353/353 [==============================] - 0s 1ms/step - loss: 0.8017\n",
            "Epoch 77/250\n",
            "353/353 [==============================] - 0s 1ms/step - loss: 0.8194\n",
            "Epoch 78/250\n",
            "353/353 [==============================] - 0s 1ms/step - loss: 0.8088\n",
            "Epoch 79/250\n",
            "353/353 [==============================] - 0s 1ms/step - loss: 0.8232\n",
            "Epoch 80/250\n",
            "353/353 [==============================] - 0s 1ms/step - loss: 0.8302\n",
            "Epoch 81/250\n",
            "353/353 [==============================] - 0s 1ms/step - loss: 0.8018\n",
            "Epoch 82/250\n",
            "353/353 [==============================] - 0s 1ms/step - loss: 0.8236\n",
            "Epoch 83/250\n",
            "353/353 [==============================] - 0s 1ms/step - loss: 0.7931\n",
            "Epoch 84/250\n",
            "353/353 [==============================] - 0s 1ms/step - loss: 0.7742\n",
            "Epoch 85/250\n",
            "353/353 [==============================] - 0s 1ms/step - loss: 0.7678\n",
            "Epoch 86/250\n",
            "353/353 [==============================] - 0s 1ms/step - loss: 0.7986\n",
            "Epoch 87/250\n",
            "353/353 [==============================] - 0s 1ms/step - loss: 0.7697\n",
            "Epoch 88/250\n",
            "353/353 [==============================] - 0s 1ms/step - loss: 0.8195\n",
            "Epoch 89/250\n",
            "353/353 [==============================] - 0s 1ms/step - loss: 0.8194\n",
            "Epoch 90/250\n",
            "353/353 [==============================] - 0s 1ms/step - loss: 0.8374\n",
            "Epoch 91/250\n",
            "353/353 [==============================] - 0s 1ms/step - loss: 0.8235\n",
            "Epoch 92/250\n",
            "353/353 [==============================] - 0s 1ms/step - loss: 0.7682\n",
            "Epoch 93/250\n",
            "353/353 [==============================] - 0s 1ms/step - loss: 0.8121\n",
            "Epoch 94/250\n",
            "353/353 [==============================] - 0s 1ms/step - loss: 0.7978\n",
            "Epoch 95/250\n",
            "353/353 [==============================] - 0s 1ms/step - loss: 0.7839\n",
            "Epoch 96/250\n",
            "353/353 [==============================] - 0s 1ms/step - loss: 0.7996\n",
            "Epoch 97/250\n",
            "353/353 [==============================] - 0s 1ms/step - loss: 0.7752\n",
            "Epoch 98/250\n",
            "353/353 [==============================] - 0s 1ms/step - loss: 0.7871\n",
            "Epoch 99/250\n",
            "353/353 [==============================] - 0s 1ms/step - loss: 0.7826\n",
            "Epoch 100/250\n",
            "353/353 [==============================] - 0s 1ms/step - loss: 0.8039\n",
            "Epoch 101/250\n",
            "353/353 [==============================] - 0s 1ms/step - loss: 0.7748\n",
            "Epoch 102/250\n",
            "353/353 [==============================] - 0s 1ms/step - loss: 0.8023\n",
            "Epoch 103/250\n",
            "353/353 [==============================] - 0s 1ms/step - loss: 0.7969\n",
            "Epoch 104/250\n",
            "353/353 [==============================] - 0s 1ms/step - loss: 0.8321\n",
            "Epoch 105/250\n",
            "353/353 [==============================] - 0s 1ms/step - loss: 0.7760\n",
            "Epoch 106/250\n",
            "353/353 [==============================] - 0s 1ms/step - loss: 0.7958\n",
            "Epoch 107/250\n",
            "353/353 [==============================] - 0s 1ms/step - loss: 0.7894\n",
            "Epoch 108/250\n",
            "353/353 [==============================] - 0s 1ms/step - loss: 0.7772\n",
            "Epoch 109/250\n",
            "353/353 [==============================] - 0s 1ms/step - loss: 0.8008\n",
            "Epoch 110/250\n",
            "353/353 [==============================] - 0s 1ms/step - loss: 0.7938\n",
            "Epoch 111/250\n",
            "353/353 [==============================] - 0s 1ms/step - loss: 0.7814\n",
            "Epoch 112/250\n",
            "353/353 [==============================] - 0s 1ms/step - loss: 0.8195\n",
            "Epoch 113/250\n",
            "353/353 [==============================] - 0s 1ms/step - loss: 0.7853\n",
            "Epoch 114/250\n",
            "353/353 [==============================] - 0s 1ms/step - loss: 0.7895\n",
            "Epoch 115/250\n",
            "353/353 [==============================] - 0s 1ms/step - loss: 0.7687\n",
            "Epoch 116/250\n",
            "353/353 [==============================] - 0s 1ms/step - loss: 0.7906\n",
            "Epoch 117/250\n",
            "353/353 [==============================] - 0s 1ms/step - loss: 0.7984\n",
            "Epoch 118/250\n",
            "353/353 [==============================] - 0s 1ms/step - loss: 0.7902\n",
            "Epoch 119/250\n",
            "353/353 [==============================] - 0s 1ms/step - loss: 0.7608\n",
            "Epoch 120/250\n",
            "353/353 [==============================] - 0s 1ms/step - loss: 0.7678\n",
            "Epoch 121/250\n",
            "353/353 [==============================] - 0s 1ms/step - loss: 0.8118\n",
            "Epoch 122/250\n",
            "353/353 [==============================] - 0s 1ms/step - loss: 0.7750\n",
            "Epoch 123/250\n",
            "353/353 [==============================] - 0s 1ms/step - loss: 0.8013\n",
            "Epoch 124/250\n",
            "353/353 [==============================] - 0s 1ms/step - loss: 0.7619\n",
            "Epoch 125/250\n",
            "353/353 [==============================] - 0s 1ms/step - loss: 0.7936\n",
            "Epoch 126/250\n",
            "353/353 [==============================] - 0s 1ms/step - loss: 0.7619\n",
            "Epoch 127/250\n",
            "353/353 [==============================] - 0s 1ms/step - loss: 0.7631\n",
            "Epoch 128/250\n",
            "353/353 [==============================] - 0s 1ms/step - loss: 0.7741\n",
            "Epoch 129/250\n",
            "353/353 [==============================] - 0s 1ms/step - loss: 0.7652\n",
            "Epoch 130/250\n",
            "353/353 [==============================] - 0s 1ms/step - loss: 0.7585\n",
            "Epoch 131/250\n",
            "353/353 [==============================] - 0s 1ms/step - loss: 0.7522\n",
            "Epoch 132/250\n",
            "353/353 [==============================] - 0s 1ms/step - loss: 0.7655\n",
            "Epoch 133/250\n",
            "353/353 [==============================] - 0s 1ms/step - loss: 0.7806\n",
            "Epoch 134/250\n",
            "353/353 [==============================] - 0s 1ms/step - loss: 0.7448\n",
            "Epoch 135/250\n",
            "353/353 [==============================] - 0s 1ms/step - loss: 0.7651\n",
            "Epoch 136/250\n",
            "353/353 [==============================] - 0s 1ms/step - loss: 0.7905\n",
            "Epoch 137/250\n",
            "353/353 [==============================] - 0s 1ms/step - loss: 0.7609\n",
            "Epoch 138/250\n",
            "353/353 [==============================] - 0s 1ms/step - loss: 0.7985\n",
            "Epoch 139/250\n",
            "353/353 [==============================] - 0s 1ms/step - loss: 0.7848\n",
            "Epoch 140/250\n",
            "353/353 [==============================] - 0s 1ms/step - loss: 0.8014\n",
            "Epoch 141/250\n",
            "353/353 [==============================] - 0s 1ms/step - loss: 0.7552\n",
            "Epoch 142/250\n",
            "353/353 [==============================] - 0s 1ms/step - loss: 0.7841\n",
            "Epoch 143/250\n",
            "353/353 [==============================] - 0s 1ms/step - loss: 0.7937\n",
            "Epoch 144/250\n",
            "353/353 [==============================] - 0s 1ms/step - loss: 0.7330\n",
            "Epoch 145/250\n",
            "353/353 [==============================] - 0s 1ms/step - loss: 0.7614\n",
            "Epoch 146/250\n",
            "353/353 [==============================] - 0s 1ms/step - loss: 0.7811\n",
            "Epoch 147/250\n",
            "353/353 [==============================] - 0s 1ms/step - loss: 0.7798\n",
            "Epoch 148/250\n",
            "353/353 [==============================] - 0s 1ms/step - loss: 0.7554\n",
            "Epoch 149/250\n",
            "353/353 [==============================] - 0s 1ms/step - loss: 0.8017\n",
            "Epoch 150/250\n",
            "353/353 [==============================] - 0s 1ms/step - loss: 0.7371\n",
            "Epoch 151/250\n",
            "353/353 [==============================] - 0s 1ms/step - loss: 0.7562\n",
            "Epoch 152/250\n",
            "353/353 [==============================] - 0s 1ms/step - loss: 0.7731\n",
            "Epoch 153/250\n",
            "353/353 [==============================] - 0s 1ms/step - loss: 0.7645\n",
            "Epoch 154/250\n",
            "353/353 [==============================] - 0s 1ms/step - loss: 0.7474\n",
            "Epoch 155/250\n",
            "353/353 [==============================] - 0s 1ms/step - loss: 0.7761\n",
            "Epoch 156/250\n",
            "353/353 [==============================] - 0s 1ms/step - loss: 0.7816\n",
            "Epoch 157/250\n",
            "353/353 [==============================] - 0s 1ms/step - loss: 0.7637\n",
            "Epoch 158/250\n",
            "353/353 [==============================] - 0s 1ms/step - loss: 0.7529\n",
            "Epoch 159/250\n",
            "353/353 [==============================] - 0s 1ms/step - loss: 0.7618\n",
            "Epoch 160/250\n",
            "353/353 [==============================] - 0s 1ms/step - loss: 0.7434\n",
            "Epoch 161/250\n",
            "353/353 [==============================] - 0s 1ms/step - loss: 0.7604\n",
            "Epoch 162/250\n",
            "353/353 [==============================] - 0s 1ms/step - loss: 0.7976\n",
            "Epoch 163/250\n",
            "353/353 [==============================] - 0s 1ms/step - loss: 0.7503\n",
            "Epoch 164/250\n",
            "353/353 [==============================] - 0s 1ms/step - loss: 0.7610\n",
            "Epoch 165/250\n",
            "353/353 [==============================] - 0s 1ms/step - loss: 0.7711\n",
            "Epoch 166/250\n",
            "353/353 [==============================] - 0s 1ms/step - loss: 0.7897\n",
            "Epoch 167/250\n",
            "353/353 [==============================] - 0s 1ms/step - loss: 0.7877\n",
            "Epoch 168/250\n",
            "353/353 [==============================] - 0s 1ms/step - loss: 0.7793\n",
            "Epoch 169/250\n",
            "353/353 [==============================] - 0s 1ms/step - loss: 0.7692\n",
            "Epoch 170/250\n",
            "353/353 [==============================] - 0s 1ms/step - loss: 0.7678\n",
            "Epoch 171/250\n",
            "353/353 [==============================] - 0s 1ms/step - loss: 0.7532\n",
            "Epoch 172/250\n",
            "353/353 [==============================] - 0s 1ms/step - loss: 0.7400\n",
            "Epoch 173/250\n",
            "353/353 [==============================] - 0s 1ms/step - loss: 0.7578\n",
            "Epoch 174/250\n",
            "353/353 [==============================] - 0s 1ms/step - loss: 0.7644\n",
            "Epoch 175/250\n",
            "353/353 [==============================] - 0s 1ms/step - loss: 0.7551\n",
            "Epoch 176/250\n",
            "353/353 [==============================] - 0s 1ms/step - loss: 0.7720\n",
            "Epoch 177/250\n",
            "353/353 [==============================] - 0s 1ms/step - loss: 0.7373\n",
            "Epoch 178/250\n",
            "353/353 [==============================] - 0s 1ms/step - loss: 0.7691\n",
            "Epoch 179/250\n",
            "353/353 [==============================] - 0s 1ms/step - loss: 0.7461\n",
            "Epoch 180/250\n",
            "353/353 [==============================] - 0s 1ms/step - loss: 0.7558\n",
            "Epoch 181/250\n",
            "353/353 [==============================] - 0s 1ms/step - loss: 0.7417\n",
            "Epoch 182/250\n",
            "353/353 [==============================] - 0s 1ms/step - loss: 0.7346\n",
            "Epoch 183/250\n",
            "353/353 [==============================] - 0s 1ms/step - loss: 0.7351\n",
            "Epoch 184/250\n",
            "353/353 [==============================] - 0s 1ms/step - loss: 0.7571\n",
            "Epoch 185/250\n",
            "353/353 [==============================] - 0s 1ms/step - loss: 0.7463\n",
            "Epoch 186/250\n",
            "353/353 [==============================] - 0s 1ms/step - loss: 0.7392\n",
            "Epoch 187/250\n",
            "353/353 [==============================] - 0s 1ms/step - loss: 0.7254\n",
            "Epoch 188/250\n",
            "353/353 [==============================] - 0s 1ms/step - loss: 0.7620\n",
            "Epoch 189/250\n",
            "353/353 [==============================] - 0s 1ms/step - loss: 0.7303\n",
            "Epoch 190/250\n",
            "353/353 [==============================] - 0s 1ms/step - loss: 0.7447\n",
            "Epoch 191/250\n",
            "353/353 [==============================] - 0s 1ms/step - loss: 0.7360\n",
            "Epoch 192/250\n",
            "353/353 [==============================] - 0s 1ms/step - loss: 0.7759\n",
            "Epoch 193/250\n",
            "353/353 [==============================] - 0s 1ms/step - loss: 0.7614\n",
            "Epoch 194/250\n",
            "353/353 [==============================] - 0s 1ms/step - loss: 0.7623\n",
            "Epoch 195/250\n",
            "353/353 [==============================] - 0s 1ms/step - loss: 0.7643\n",
            "Epoch 196/250\n",
            "353/353 [==============================] - 0s 1ms/step - loss: 0.7481\n",
            "Epoch 197/250\n",
            "353/353 [==============================] - 0s 1ms/step - loss: 0.7244\n",
            "Epoch 198/250\n",
            "353/353 [==============================] - 0s 1ms/step - loss: 0.7385\n",
            "Epoch 199/250\n",
            "353/353 [==============================] - 0s 1ms/step - loss: 0.7232\n",
            "Epoch 200/250\n",
            "353/353 [==============================] - 0s 1ms/step - loss: 0.7585\n",
            "Epoch 201/250\n",
            "353/353 [==============================] - 0s 1ms/step - loss: 0.7443\n",
            "Epoch 202/250\n",
            "353/353 [==============================] - 0s 1ms/step - loss: 0.7453\n",
            "Epoch 203/250\n",
            "353/353 [==============================] - 0s 1ms/step - loss: 0.7385\n",
            "Epoch 204/250\n",
            "353/353 [==============================] - 0s 1ms/step - loss: 0.7475\n",
            "Epoch 205/250\n",
            "353/353 [==============================] - 0s 1ms/step - loss: 0.7435\n",
            "Epoch 206/250\n",
            "353/353 [==============================] - 0s 1ms/step - loss: 0.7409\n",
            "Epoch 207/250\n",
            "353/353 [==============================] - 0s 1ms/step - loss: 0.7321\n",
            "Epoch 208/250\n",
            "353/353 [==============================] - 0s 1ms/step - loss: 0.7613\n",
            "Epoch 209/250\n",
            "353/353 [==============================] - 0s 1ms/step - loss: 0.7663\n",
            "Epoch 210/250\n",
            "353/353 [==============================] - 0s 1ms/step - loss: 0.7441\n",
            "Epoch 211/250\n",
            "353/353 [==============================] - 0s 1ms/step - loss: 0.7177\n",
            "Epoch 212/250\n",
            "353/353 [==============================] - 0s 1ms/step - loss: 0.7241\n",
            "Epoch 213/250\n",
            "353/353 [==============================] - 0s 1ms/step - loss: 0.7419\n",
            "Epoch 214/250\n",
            "353/353 [==============================] - 0s 1ms/step - loss: 0.7487\n",
            "Epoch 215/250\n",
            "353/353 [==============================] - 0s 1ms/step - loss: 0.7237\n",
            "Epoch 216/250\n",
            "353/353 [==============================] - 0s 1ms/step - loss: 0.7216\n",
            "Epoch 217/250\n",
            "353/353 [==============================] - 0s 1ms/step - loss: 0.7742\n",
            "Epoch 218/250\n",
            "353/353 [==============================] - 0s 1ms/step - loss: 0.7613\n",
            "Epoch 219/250\n",
            "353/353 [==============================] - 0s 1ms/step - loss: 0.7426\n",
            "Epoch 220/250\n",
            "353/353 [==============================] - 0s 1ms/step - loss: 0.7328\n",
            "Epoch 221/250\n",
            "353/353 [==============================] - 0s 1ms/step - loss: 0.7368\n",
            "Epoch 222/250\n",
            "353/353 [==============================] - 0s 1ms/step - loss: 0.7245\n",
            "Epoch 223/250\n",
            "353/353 [==============================] - 0s 1ms/step - loss: 0.7724\n",
            "Epoch 224/250\n",
            "353/353 [==============================] - 0s 1ms/step - loss: 0.7315\n",
            "Epoch 225/250\n",
            "353/353 [==============================] - 0s 1ms/step - loss: 0.7443\n",
            "Epoch 226/250\n",
            "353/353 [==============================] - 0s 1ms/step - loss: 0.7164\n",
            "Epoch 227/250\n",
            "353/353 [==============================] - 0s 1ms/step - loss: 0.7108\n",
            "Epoch 228/250\n",
            "353/353 [==============================] - 0s 1ms/step - loss: 0.7604\n",
            "Epoch 229/250\n",
            "353/353 [==============================] - 0s 1ms/step - loss: 0.7541\n",
            "Epoch 230/250\n",
            "353/353 [==============================] - 0s 1ms/step - loss: 0.7376\n",
            "Epoch 231/250\n",
            "353/353 [==============================] - 0s 1ms/step - loss: 0.7421\n",
            "Epoch 232/250\n",
            "353/353 [==============================] - 0s 1ms/step - loss: 0.7535\n",
            "Epoch 233/250\n",
            "353/353 [==============================] - 0s 1ms/step - loss: 0.7306\n",
            "Epoch 234/250\n",
            "353/353 [==============================] - 0s 1ms/step - loss: 0.7432\n",
            "Epoch 235/250\n",
            "353/353 [==============================] - 0s 1ms/step - loss: 0.7609\n",
            "Epoch 236/250\n",
            "353/353 [==============================] - 0s 1ms/step - loss: 0.7407\n",
            "Epoch 237/250\n",
            "353/353 [==============================] - 0s 1ms/step - loss: 0.7553\n",
            "Epoch 238/250\n",
            "353/353 [==============================] - 0s 1ms/step - loss: 0.7368\n",
            "Epoch 239/250\n",
            "353/353 [==============================] - 0s 1ms/step - loss: 0.7454\n",
            "Epoch 240/250\n",
            "353/353 [==============================] - 0s 1ms/step - loss: 0.7065\n",
            "Epoch 241/250\n",
            "353/353 [==============================] - 0s 1ms/step - loss: 0.7334\n",
            "Epoch 242/250\n",
            "353/353 [==============================] - 0s 1ms/step - loss: 0.7326\n",
            "Epoch 243/250\n",
            "353/353 [==============================] - 0s 1ms/step - loss: 0.7313\n",
            "Epoch 244/250\n",
            "353/353 [==============================] - 0s 1ms/step - loss: 0.7535\n",
            "Epoch 245/250\n",
            "353/353 [==============================] - 0s 1ms/step - loss: 0.7373\n",
            "Epoch 246/250\n",
            "353/353 [==============================] - 0s 1ms/step - loss: 0.7365\n",
            "Epoch 247/250\n",
            "353/353 [==============================] - 1s 1ms/step - loss: 0.7146\n",
            "Epoch 248/250\n",
            "353/353 [==============================] - 0s 1ms/step - loss: 0.7110\n",
            "Epoch 249/250\n",
            "353/353 [==============================] - 0s 1ms/step - loss: 0.7278\n",
            "Epoch 250/250\n",
            "353/353 [==============================] - 0s 1ms/step - loss: 0.7350\n"
          ],
          "name": "stdout"
        },
        {
          "output_type": "execute_result",
          "data": {
            "text/plain": [
              "<keras.callbacks.History at 0x7feaf5057750>"
            ]
          },
          "metadata": {
            "tags": []
          },
          "execution_count": 84
        }
      ]
    },
    {
      "cell_type": "code",
      "metadata": {
        "colab": {
          "base_uri": "https://localhost:8080/",
          "height": 284
        },
        "id": "4u1iCp4D7fh8",
        "outputId": "19868f5c-deaa-42b8-87fa-7610f42516a9"
      },
      "source": [
        "%matplotlib inline\n",
        "import matplotlib as plot\n",
        "model_loss = pd.DataFrame(model.history.history)\n",
        "model_loss.plot()"
      ],
      "execution_count": 85,
      "outputs": [
        {
          "output_type": "execute_result",
          "data": {
            "text/plain": [
              "<matplotlib.axes._subplots.AxesSubplot at 0x7feaf0a91310>"
            ]
          },
          "metadata": {
            "tags": []
          },
          "execution_count": 85
        },
        {
          "output_type": "display_data",
          "data": {
            "image/png": "[encoded data removed]",
            "text/plain": [
              "<Figure size 432x288 with 1 Axes>"
            ]
          },
          "metadata": {
            "tags": [],
            "needs_background": "light"
          }
        }
      ]
    },
    {
      "cell_type": "code",
      "metadata": {
        "id": "3ymRkNhg7fky"
      },
      "source": [
        "pred = model.predict(x_test)"
      ],
      "execution_count": 86,
      "outputs": []
    },
    {
      "cell_type": "code",
      "metadata": {
        "colab": {
          "base_uri": "https://localhost:8080/"
        },
        "id": "bOfaazd17fni",
        "outputId": "a0455800-2976-4fd7-e068-7977410e3f80"
      },
      "source": [
        "pred"
      ],
      "execution_count": 87,
      "outputs": [
        {
          "output_type": "execute_result",
          "data": {
            "text/plain": [
              "array([[132.31456 ],\n",
              "       [133.68617 ],\n",
              "       [110.916214],\n",
              "       ...,\n",
              "       [160.27103 ],\n",
              "       [104.3668  ],\n",
              "       [132.68338 ]], dtype=float32)"
            ]
          },
          "metadata": {
            "tags": []
          },
          "execution_count": 87
        }
      ]
    },
    {
      "cell_type": "code",
      "metadata": {
        "id": "nflaret27fqO"
      },
      "source": [
        "pred = pred.ravel()"
      ],
      "execution_count": 88,
      "outputs": []
    },
    {
      "cell_type": "code",
      "metadata": {
        "colab": {
          "base_uri": "https://localhost:8080/"
        },
        "id": "0FtEJbsO7fs5",
        "outputId": "30098dfe-6ec1-4433-9f8e-e62309698725"
      },
      "source": [
        "test_score = model.evaluate(x_test,y_test,verbose=0)\n",
        "test_score"
      ],
      "execution_count": 89,
      "outputs": [
        {
          "output_type": "execute_result",
          "data": {
            "text/plain": [
              "0.5528033375740051"
            ]
          },
          "metadata": {
            "tags": []
          },
          "execution_count": 89
        }
      ]
    },
    {
      "cell_type": "code",
      "metadata": {
        "colab": {
          "base_uri": "https://localhost:8080/"
        },
        "id": "RNBKXh0k7fvf",
        "outputId": "edfa7ab3-17d2-47df-ff59-d5b3fc6ff36b"
      },
      "source": [
        "from sklearn.metrics import mean_absolute_error,mean_squared_error\n",
        "mean_absolute_error(pred,y_test)"
      ],
      "execution_count": 91,
      "outputs": [
        {
          "output_type": "execute_result",
          "data": {
            "text/plain": [
              "0.5551222591805962"
            ]
          },
          "metadata": {
            "tags": []
          },
          "execution_count": 91
        }
      ]
    },
    {
      "cell_type": "code",
      "metadata": {
        "colab": {
          "base_uri": "https://localhost:8080/"
        },
        "id": "n6EULAH67fyW",
        "outputId": "1574d88a-46db-4516-a63e-af721efc0c2f"
      },
      "source": [
        "mean_squared_error(pred,y_test)"
      ],
      "execution_count": 92,
      "outputs": [
        {
          "output_type": "execute_result",
          "data": {
            "text/plain": [
              "0.5528032514227249"
            ]
          },
          "metadata": {
            "tags": []
          },
          "execution_count": 92
        }
      ]
    },
    {
      "cell_type": "code",
      "metadata": {
        "colab": {
          "base_uri": "https://localhost:8080/",
          "height": 282
        },
        "id": "7mLtfVe27f1K",
        "outputId": "a98aee72-0b26-4f96-99e5-fda6873ed28b"
      },
      "source": [
        "import matplotlib.pyplot as plt\n",
        "plt.scatter(y_test,pred)"
      ],
      "execution_count": 93,
      "outputs": [
        {
          "output_type": "execute_result",
          "data": {
            "text/plain": [
              "<matplotlib.collections.PathCollection at 0x7feaf081a5d0>"
            ]
          },
          "metadata": {
            "tags": []
          },
          "execution_count": 93
        },
        {
          "output_type": "display_data",
          "data": {
            "image/png": "[encoded data removed]",
            "text/plain": [
              "<Figure size 432x288 with 1 Axes>"
            ]
          },
          "metadata": {
            "tags": [],
            "needs_background": "light"
          }
        }
      ]
    },
    {
      "cell_type": "code",
      "metadata": {
        "id": "38bgZhhT7f4i"
      },
      "source": [
        ""
      ],
      "execution_count": null,
      "outputs": []
    }
  ]
}