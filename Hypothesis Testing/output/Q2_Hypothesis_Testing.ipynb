{
  "nbformat": 4,
  "nbformat_minor": 0,
  "metadata": {
    "colab": {
      "name": "Q2-Hypothesis_Testing.ipynb",
      "provenance": [],
      "collapsed_sections": []
    },
    "kernelspec": {
      "name": "python3",
      "display_name": "Python 3"
    },
    "language_info": {
      "name": "python"
    }
  },
  "cells": [
    {
      "cell_type": "code",
      "metadata": {
        "id": "u3oKzuZlE3uk"
      },
      "source": [
        "#import the libraries\n",
        "%matplotlib inline\n",
        "import numpy as np\n",
        "import scipy as sp\n",
        "import pandas as pd\n",
        "import statsmodels.api as sm\n",
        "import statsmodels.formula.api as smf\n",
        "import matplotlib as mpl\n",
        "import matplotlib.pyplot as plt\n",
        "import seaborn as sns\n",
        "from statsmodels.stats.proportion import proportions_ztest"
      ],
      "execution_count": 30,
      "outputs": []
    },
    {
      "cell_type": "code",
      "metadata": {
        "colab": {
          "base_uri": "https://localhost:8080/",
          "height": 204
        },
        "id": "BISQjSaxHafp",
        "outputId": "e0f1b6c9-cdf5-46cd-b9b9-3443198f1a8a"
      },
      "source": [
        "LabTAT =pd.read_csv('LabTAT.csv')\n",
        "LabTAT.head()"
      ],
      "execution_count": 31,
      "outputs": [
        {
          "output_type": "execute_result",
          "data": {
            "text/html": [
              "<div>\n",
              "<style scoped>\n",
              "    .dataframe tbody tr th:only-of-type {\n",
              "        vertical-align: middle;\n",
              "    }\n",
              "\n",
              "    .dataframe tbody tr th {\n",
              "        vertical-align: top;\n",
              "    }\n",
              "\n",
              "    .dataframe thead th {\n",
              "        text-align: right;\n",
              "    }\n",
              "</style>\n",
              "<table border=\"1\" class=\"dataframe\">\n",
              "  <thead>\n",
              "    <tr style=\"text-align: right;\">\n",
              "      <th></th>\n",
              "      <th>Laboratory 1</th>\n",
              "      <th>Laboratory 2</th>\n",
              "      <th>Laboratory 3</th>\n",
              "      <th>Laboratory 4</th>\n",
              "    </tr>\n",
              "  </thead>\n",
              "  <tbody>\n",
              "    <tr>\n",
              "      <th>0</th>\n",
              "      <td>185.35</td>\n",
              "      <td>165.53</td>\n",
              "      <td>176.70</td>\n",
              "      <td>166.13</td>\n",
              "    </tr>\n",
              "    <tr>\n",
              "      <th>1</th>\n",
              "      <td>170.49</td>\n",
              "      <td>185.91</td>\n",
              "      <td>198.45</td>\n",
              "      <td>160.79</td>\n",
              "    </tr>\n",
              "    <tr>\n",
              "      <th>2</th>\n",
              "      <td>192.77</td>\n",
              "      <td>194.92</td>\n",
              "      <td>201.23</td>\n",
              "      <td>185.18</td>\n",
              "    </tr>\n",
              "    <tr>\n",
              "      <th>3</th>\n",
              "      <td>177.33</td>\n",
              "      <td>183.00</td>\n",
              "      <td>199.61</td>\n",
              "      <td>176.42</td>\n",
              "    </tr>\n",
              "    <tr>\n",
              "      <th>4</th>\n",
              "      <td>193.41</td>\n",
              "      <td>169.57</td>\n",
              "      <td>204.63</td>\n",
              "      <td>152.60</td>\n",
              "    </tr>\n",
              "  </tbody>\n",
              "</table>\n",
              "</div>"
            ],
            "text/plain": [
              "   Laboratory 1  Laboratory 2  Laboratory 3  Laboratory 4\n",
              "0        185.35        165.53        176.70        166.13\n",
              "1        170.49        185.91        198.45        160.79\n",
              "2        192.77        194.92        201.23        185.18\n",
              "3        177.33        183.00        199.61        176.42\n",
              "4        193.41        169.57        204.63        152.60"
            ]
          },
          "metadata": {
            "tags": []
          },
          "execution_count": 31
        }
      ]
    },
    {
      "cell_type": "code",
      "metadata": {
        "colab": {
          "base_uri": "https://localhost:8080/",
          "height": 297
        },
        "id": "BCwEOzrOHaoi",
        "outputId": "1428457d-3bb4-4de1-9ece-db385cd15773"
      },
      "source": [
        "LabTAT.describe()"
      ],
      "execution_count": 32,
      "outputs": [
        {
          "output_type": "execute_result",
          "data": {
            "text/html": [
              "<div>\n",
              "<style scoped>\n",
              "    .dataframe tbody tr th:only-of-type {\n",
              "        vertical-align: middle;\n",
              "    }\n",
              "\n",
              "    .dataframe tbody tr th {\n",
              "        vertical-align: top;\n",
              "    }\n",
              "\n",
              "    .dataframe thead th {\n",
              "        text-align: right;\n",
              "    }\n",
              "</style>\n",
              "<table border=\"1\" class=\"dataframe\">\n",
              "  <thead>\n",
              "    <tr style=\"text-align: right;\">\n",
              "      <th></th>\n",
              "      <th>Laboratory 1</th>\n",
              "      <th>Laboratory 2</th>\n",
              "      <th>Laboratory 3</th>\n",
              "      <th>Laboratory 4</th>\n",
              "    </tr>\n",
              "  </thead>\n",
              "  <tbody>\n",
              "    <tr>\n",
              "      <th>count</th>\n",
              "      <td>120.000000</td>\n",
              "      <td>120.000000</td>\n",
              "      <td>120.000000</td>\n",
              "      <td>120.00000</td>\n",
              "    </tr>\n",
              "    <tr>\n",
              "      <th>mean</th>\n",
              "      <td>178.361583</td>\n",
              "      <td>178.902917</td>\n",
              "      <td>199.913250</td>\n",
              "      <td>163.68275</td>\n",
              "    </tr>\n",
              "    <tr>\n",
              "      <th>std</th>\n",
              "      <td>13.173594</td>\n",
              "      <td>14.957114</td>\n",
              "      <td>16.539033</td>\n",
              "      <td>15.08508</td>\n",
              "    </tr>\n",
              "    <tr>\n",
              "      <th>min</th>\n",
              "      <td>138.300000</td>\n",
              "      <td>140.550000</td>\n",
              "      <td>159.690000</td>\n",
              "      <td>124.06000</td>\n",
              "    </tr>\n",
              "    <tr>\n",
              "      <th>25%</th>\n",
              "      <td>170.335000</td>\n",
              "      <td>168.025000</td>\n",
              "      <td>188.232500</td>\n",
              "      <td>154.05000</td>\n",
              "    </tr>\n",
              "    <tr>\n",
              "      <th>50%</th>\n",
              "      <td>178.530000</td>\n",
              "      <td>178.870000</td>\n",
              "      <td>199.805000</td>\n",
              "      <td>164.42500</td>\n",
              "    </tr>\n",
              "    <tr>\n",
              "      <th>75%</th>\n",
              "      <td>186.535000</td>\n",
              "      <td>189.112500</td>\n",
              "      <td>211.332500</td>\n",
              "      <td>172.88250</td>\n",
              "    </tr>\n",
              "    <tr>\n",
              "      <th>max</th>\n",
              "      <td>216.390000</td>\n",
              "      <td>217.860000</td>\n",
              "      <td>238.700000</td>\n",
              "      <td>205.18000</td>\n",
              "    </tr>\n",
              "  </tbody>\n",
              "</table>\n",
              "</div>"
            ],
            "text/plain": [
              "       Laboratory 1  Laboratory 2  Laboratory 3  Laboratory 4\n",
              "count    120.000000    120.000000    120.000000     120.00000\n",
              "mean     178.361583    178.902917    199.913250     163.68275\n",
              "std       13.173594     14.957114     16.539033      15.08508\n",
              "min      138.300000    140.550000    159.690000     124.06000\n",
              "25%      170.335000    168.025000    188.232500     154.05000\n",
              "50%      178.530000    178.870000    199.805000     164.42500\n",
              "75%      186.535000    189.112500    211.332500     172.88250\n",
              "max      216.390000    217.860000    238.700000     205.18000"
            ]
          },
          "metadata": {
            "tags": []
          },
          "execution_count": 32
        }
      ]
    },
    {
      "cell_type": "code",
      "metadata": {
        "colab": {
          "base_uri": "https://localhost:8080/"
        },
        "id": "h5E_BDVuHar9",
        "outputId": "b1c47d14-1e4b-46a0-ed28-2091eb24315d"
      },
      "source": [
        "Laboratory_1=LabTAT['Laboratory 1'].mean()\n",
        "Laboratory_2=LabTAT['Laboratory 2'].mean()\n",
        "Laboratory_3=LabTAT['Laboratory 3'].mean()\n",
        "Laboratory_4=LabTAT['Laboratory 4'].mean()\n",
        "\n",
        "print('Laboratory 1 Mean = ',Laboratory_1)\n",
        "print('Laboratory 2 Mean = ',Laboratory_2)\n",
        "print('Laboratory 3 Mean = ',Laboratory_3)\n",
        "print('Laboratory 4 Mean = ',Laboratory_4)"
      ],
      "execution_count": 33,
      "outputs": [
        {
          "output_type": "stream",
          "text": [
            "Laboratory 1 Mean =  178.36158333333339\n",
            "Laboratory 2 Mean =  178.9029166666668\n",
            "Laboratory 3 Mean =  199.91325000000003\n",
            "Laboratory 4 Mean =  163.6827499999999\n"
          ],
          "name": "stdout"
        }
      ]
    },
    {
      "cell_type": "code",
      "metadata": {
        "colab": {
          "base_uri": "https://localhost:8080/"
        },
        "id": "utyPuBXYHau4",
        "outputId": "7d74d7d1-f79b-402b-a87e-e7d4f10d9e4d"
      },
      "source": [
        "print('Laboratory_1 > Laboratory_2 = ',Laboratory_1 > Laboratory_2)\n",
        "print('Laboratory_2 > Laboratory_3 = ',Laboratory_2 > Laboratory_3)\n",
        "print('Laboratory_3 > Laboratory_4 = ',Laboratory_3 > Laboratory_4)\n",
        "print('Laboratory_4 > Laboratory_1 = ',Laboratory_4 > Laboratory_1)"
      ],
      "execution_count": 34,
      "outputs": [
        {
          "output_type": "stream",
          "text": [
            "Laboratory_1 > Laboratory_2 =  False\n",
            "Laboratory_2 > Laboratory_3 =  False\n",
            "Laboratory_3 > Laboratory_4 =  True\n",
            "Laboratory_4 > Laboratory_1 =  False\n"
          ],
          "name": "stdout"
        }
      ]
    },
    {
      "cell_type": "markdown",
      "metadata": {
        "id": "9brluJbsZQ2A"
      },
      "source": [
        "The Null and Alternative Hypothesis \n",
        "\n",
        "There are no significant differences between the groups mean Lab values.\n",
        "H0:μ1=μ2=μ3=μ4=μ5\n",
        "\n",
        "There is a significant difference between the groups mean Lab values.\n",
        "Ha:μ1≠μ2≠μ3≠μ4"
      ]
    },
    {
      "cell_type": "code",
      "metadata": {
        "id": "FOsd2mH4Ha0h",
        "colab": {
          "base_uri": "https://localhost:8080/",
          "height": 452
        },
        "outputId": "d36242b7-bfe6-401c-e17b-3080cf7e261c"
      },
      "source": [
        "sns.distplot(LabTAT['Laboratory 1'])\n",
        "sns.distplot(LabTAT['Laboratory 2'])\n",
        "sns.distplot(LabTAT['Laboratory 3'])\n",
        "sns.distplot(LabTAT['Laboratory 4'])\n",
        "plt.legend(['Laboratory 1','Laboratory 2','Laboratory 3','Laboratory 4'])"
      ],
      "execution_count": 35,
      "outputs": [
        {
          "output_type": "stream",
          "text": [
            "/usr/local/lib/python3.7/dist-packages/seaborn/distributions.py:2557: FutureWarning: `distplot` is a deprecated function and will be removed in a future version. Please adapt your code to use either `displot` (a figure-level function with similar flexibility) or `histplot` (an axes-level function for histograms).\n",
            "  warnings.warn(msg, FutureWarning)\n",
            "/usr/local/lib/python3.7/dist-packages/seaborn/distributions.py:2557: FutureWarning: `distplot` is a deprecated function and will be removed in a future version. Please adapt your code to use either `displot` (a figure-level function with similar flexibility) or `histplot` (an axes-level function for histograms).\n",
            "  warnings.warn(msg, FutureWarning)\n",
            "/usr/local/lib/python3.7/dist-packages/seaborn/distributions.py:2557: FutureWarning: `distplot` is a deprecated function and will be removed in a future version. Please adapt your code to use either `displot` (a figure-level function with similar flexibility) or `histplot` (an axes-level function for histograms).\n",
            "  warnings.warn(msg, FutureWarning)\n",
            "/usr/local/lib/python3.7/dist-packages/seaborn/distributions.py:2557: FutureWarning: `distplot` is a deprecated function and will be removed in a future version. Please adapt your code to use either `displot` (a figure-level function with similar flexibility) or `histplot` (an axes-level function for histograms).\n",
            "  warnings.warn(msg, FutureWarning)\n"
          ],
          "name": "stderr"
        },
        {
          "output_type": "execute_result",
          "data": {
            "text/plain": [
              "<matplotlib.legend.Legend at 0x7f87a06ed390>"
            ]
          },
          "metadata": {
            "tags": []
          },
          "execution_count": 35
        },
        {
          "output_type": "display_data",
          "data": {
            "image/png": "[encoded data removed]",
            "text/plain": [
              "<Figure size 432x288 with 1 Axes>"
            ]
          },
          "metadata": {
            "tags": [],
            "needs_background": "light"
          }
        }
      ]
    },
    {
      "cell_type": "code",
      "metadata": {
        "id": "ESuHRwYkHa3-",
        "colab": {
          "base_uri": "https://localhost:8080/",
          "height": 282
        },
        "outputId": "748157bb-1705-4149-af17-3c6c54b1322a"
      },
      "source": [
        "sns.boxplot(data=[LabTAT['Laboratory 1'],LabTAT['Laboratory 2'],LabTAT['Laboratory 3'],LabTAT['Laboratory 4']],notch=True)\n",
        "plt.legend(['Laboratory 1','Laboratory 2','Laboratory 3','Laboratory 4'])"
      ],
      "execution_count": 36,
      "outputs": [
        {
          "output_type": "execute_result",
          "data": {
            "text/plain": [
              "<matplotlib.legend.Legend at 0x7f87a080bd50>"
            ]
          },
          "metadata": {
            "tags": []
          },
          "execution_count": 36
        },
        {
          "output_type": "display_data",
          "data": {
            "image/png": "[encoded data removed]",
            "text/plain": [
              "<Figure size 432x288 with 1 Axes>"
            ]
          },
          "metadata": {
            "tags": [],
            "needs_background": "light"
          }
        }
      ]
    },
    {
      "cell_type": "code",
      "metadata": {
        "id": "CHj-h9CwHa94",
        "colab": {
          "base_uri": "https://localhost:8080/"
        },
        "outputId": "0947d047-04f2-40e6-b96f-bbdfa790e3c6"
      },
      "source": [
        "alpha=0.05\n",
        "Lab1=pd.DataFrame(LabTAT['Laboratory 1'])\n",
        "Lab2=pd.DataFrame(LabTAT['Laboratory 2'])\n",
        "Lab3=pd.DataFrame(LabTAT['Laboratory 3'])\n",
        "Lab4=pd.DataFrame(LabTAT['Laboratory 4'])\n",
        "print(Lab1,Lab1,Lab3,Lab4)"
      ],
      "execution_count": 37,
      "outputs": [
        {
          "output_type": "stream",
          "text": [
            "     Laboratory 1\n",
            "0          185.35\n",
            "1          170.49\n",
            "2          192.77\n",
            "3          177.33\n",
            "4          193.41\n",
            "..            ...\n",
            "115        178.49\n",
            "116        176.08\n",
            "117        202.48\n",
            "118        182.40\n",
            "119        182.09\n",
            "\n",
            "[120 rows x 1 columns]      Laboratory 1\n",
            "0          185.35\n",
            "1          170.49\n",
            "2          192.77\n",
            "3          177.33\n",
            "4          193.41\n",
            "..            ...\n",
            "115        178.49\n",
            "116        176.08\n",
            "117        202.48\n",
            "118        182.40\n",
            "119        182.09\n",
            "\n",
            "[120 rows x 1 columns]      Laboratory 3\n",
            "0          176.70\n",
            "1          198.45\n",
            "2          201.23\n",
            "3          199.61\n",
            "4          204.63\n",
            "..            ...\n",
            "115        193.80\n",
            "116        215.25\n",
            "117        203.99\n",
            "118        194.52\n",
            "119        221.49\n",
            "\n",
            "[120 rows x 1 columns]      Laboratory 4\n",
            "0          166.13\n",
            "1          160.79\n",
            "2          185.18\n",
            "3          176.42\n",
            "4          152.60\n",
            "..            ...\n",
            "115        172.68\n",
            "116        177.64\n",
            "117        170.27\n",
            "118        150.87\n",
            "119        162.21\n",
            "\n",
            "[120 rows x 1 columns]\n"
          ],
          "name": "stdout"
        }
      ]
    },
    {
      "cell_type": "code",
      "metadata": {
        "id": "Su5D2rFEHbBQ",
        "colab": {
          "base_uri": "https://localhost:8080/"
        },
        "outputId": "60593514-96cf-43a1-905f-392a8309a894"
      },
      "source": [
        "tStat, pValue = sp.stats.f_oneway(Lab1,Lab2,Lab3,Lab4)\n",
        "print(\"P-Value:{0} T-Statistic:{1}\".format(pValue,tStat))"
      ],
      "execution_count": 44,
      "outputs": [
        {
          "output_type": "stream",
          "text": [
            "P-Value:[2.11567089e-57] T-Statistic:[118.70421654]\n"
          ],
          "name": "stdout"
        }
      ]
    },
    {
      "cell_type": "code",
      "metadata": {
        "colab": {
          "base_uri": "https://localhost:8080/"
        },
        "id": "VthZaz8yc9-U",
        "outputId": "c37f9034-43ca-419e-c93d-6f70af1e8b44"
      },
      "source": [
        "if pValue < 0.05:\n",
        "  print('we reject null hypothesis')\n",
        "else:\n",
        "  print('we accept null hypothesis')"
      ],
      "execution_count": 45,
      "outputs": [
        {
          "output_type": "stream",
          "text": [
            "we reject null hypothesis\n"
          ],
          "name": "stdout"
        }
      ]
    },
    {
      "cell_type": "code",
      "metadata": {
        "id": "zixnhCJ7c9pL"
      },
      "source": [
        "# Inference that Average of atleast 1 laboratory are different"
      ],
      "execution_count": null,
      "outputs": []
    },
    {
      "cell_type": "code",
      "metadata": {
        "id": "ZQlAUssWc9l2"
      },
      "source": [
        ""
      ],
      "execution_count": null,
      "outputs": []
    }
  ]
}