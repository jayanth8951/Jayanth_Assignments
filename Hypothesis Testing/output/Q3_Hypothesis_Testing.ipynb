{
  "nbformat": 4,
  "nbformat_minor": 0,
  "metadata": {
    "colab": {
      "name": "Q3-Hypothesis_Testing.ipynb",
      "provenance": [],
      "collapsed_sections": []
    },
    "kernelspec": {
      "name": "python3",
      "display_name": "Python 3"
    },
    "language_info": {
      "name": "python"
    }
  },
  "cells": [
    {
      "cell_type": "code",
      "metadata": {
        "colab": {
          "base_uri": "https://localhost:8080/"
        },
        "id": "pcTzzMEuYZPm",
        "outputId": "e043fb5c-e242-4ba6-8e6b-ece963525a5e"
      },
      "source": [
        "#import the libraries\n",
        "%matplotlib inline\n",
        "import numpy as np\n",
        "import scipy as sp\n",
        "import pandas as pd\n",
        "import statsmodels.api as sm\n",
        "import statsmodels.formula.api as smf\n",
        "import matplotlib as mpl\n",
        "import matplotlib.pyplot as plt\n",
        "import seaborn as sns\n",
        "from statsmodels.stats.proportion import proportions_ztest"
      ],
      "execution_count": 1,
      "outputs": [
        {
          "output_type": "stream",
          "text": [
            "/usr/local/lib/python3.7/dist-packages/statsmodels/tools/_testing.py:19: FutureWarning: pandas.util.testing is deprecated. Use the functions in the public API at pandas.testing instead.\n",
            "  import pandas.util.testing as tm\n"
          ],
          "name": "stderr"
        }
      ]
    },
    {
      "cell_type": "code",
      "metadata": {
        "colab": {
          "base_uri": "https://localhost:8080/",
          "height": 111
        },
        "id": "gVNTc7LmY4I1",
        "outputId": "a744f6cd-c930-429c-929d-cc9b922ed046"
      },
      "source": [
        "BuyerRatio =pd.read_csv('BuyerRatio.csv')\n",
        "BuyerRatio.head()"
      ],
      "execution_count": 2,
      "outputs": [
        {
          "output_type": "execute_result",
          "data": {
            "text/html": [
              "<div>\n",
              "<style scoped>\n",
              "    .dataframe tbody tr th:only-of-type {\n",
              "        vertical-align: middle;\n",
              "    }\n",
              "\n",
              "    .dataframe tbody tr th {\n",
              "        vertical-align: top;\n",
              "    }\n",
              "\n",
              "    .dataframe thead th {\n",
              "        text-align: right;\n",
              "    }\n",
              "</style>\n",
              "<table border=\"1\" class=\"dataframe\">\n",
              "  <thead>\n",
              "    <tr style=\"text-align: right;\">\n",
              "      <th></th>\n",
              "      <th>Observed Values</th>\n",
              "      <th>East</th>\n",
              "      <th>West</th>\n",
              "      <th>North</th>\n",
              "      <th>South</th>\n",
              "    </tr>\n",
              "  </thead>\n",
              "  <tbody>\n",
              "    <tr>\n",
              "      <th>0</th>\n",
              "      <td>Males</td>\n",
              "      <td>50</td>\n",
              "      <td>142</td>\n",
              "      <td>131</td>\n",
              "      <td>70</td>\n",
              "    </tr>\n",
              "    <tr>\n",
              "      <th>1</th>\n",
              "      <td>Females</td>\n",
              "      <td>435</td>\n",
              "      <td>1523</td>\n",
              "      <td>1356</td>\n",
              "      <td>750</td>\n",
              "    </tr>\n",
              "  </tbody>\n",
              "</table>\n",
              "</div>"
            ],
            "text/plain": [
              "  Observed Values  East  West  North  South\n",
              "0           Males    50   142    131     70\n",
              "1         Females   435  1523   1356    750"
            ]
          },
          "metadata": {
            "tags": []
          },
          "execution_count": 2
        }
      ]
    },
    {
      "cell_type": "code",
      "metadata": {
        "colab": {
          "base_uri": "https://localhost:8080/",
          "height": 297
        },
        "id": "b7SglydzY4Lv",
        "outputId": "0234de73-d1e7-4e85-818f-397426025c7f"
      },
      "source": [
        "BuyerRatio.describe()"
      ],
      "execution_count": 3,
      "outputs": [
        {
          "output_type": "execute_result",
          "data": {
            "text/html": [
              "<div>\n",
              "<style scoped>\n",
              "    .dataframe tbody tr th:only-of-type {\n",
              "        vertical-align: middle;\n",
              "    }\n",
              "\n",
              "    .dataframe tbody tr th {\n",
              "        vertical-align: top;\n",
              "    }\n",
              "\n",
              "    .dataframe thead th {\n",
              "        text-align: right;\n",
              "    }\n",
              "</style>\n",
              "<table border=\"1\" class=\"dataframe\">\n",
              "  <thead>\n",
              "    <tr style=\"text-align: right;\">\n",
              "      <th></th>\n",
              "      <th>East</th>\n",
              "      <th>West</th>\n",
              "      <th>North</th>\n",
              "      <th>South</th>\n",
              "    </tr>\n",
              "  </thead>\n",
              "  <tbody>\n",
              "    <tr>\n",
              "      <th>count</th>\n",
              "      <td>2.000000</td>\n",
              "      <td>2.000000</td>\n",
              "      <td>2.000000</td>\n",
              "      <td>2.000000</td>\n",
              "    </tr>\n",
              "    <tr>\n",
              "      <th>mean</th>\n",
              "      <td>242.500000</td>\n",
              "      <td>832.500000</td>\n",
              "      <td>743.500000</td>\n",
              "      <td>410.000000</td>\n",
              "    </tr>\n",
              "    <tr>\n",
              "      <th>std</th>\n",
              "      <td>272.236111</td>\n",
              "      <td>976.514465</td>\n",
              "      <td>866.205807</td>\n",
              "      <td>480.832611</td>\n",
              "    </tr>\n",
              "    <tr>\n",
              "      <th>min</th>\n",
              "      <td>50.000000</td>\n",
              "      <td>142.000000</td>\n",
              "      <td>131.000000</td>\n",
              "      <td>70.000000</td>\n",
              "    </tr>\n",
              "    <tr>\n",
              "      <th>25%</th>\n",
              "      <td>146.250000</td>\n",
              "      <td>487.250000</td>\n",
              "      <td>437.250000</td>\n",
              "      <td>240.000000</td>\n",
              "    </tr>\n",
              "    <tr>\n",
              "      <th>50%</th>\n",
              "      <td>242.500000</td>\n",
              "      <td>832.500000</td>\n",
              "      <td>743.500000</td>\n",
              "      <td>410.000000</td>\n",
              "    </tr>\n",
              "    <tr>\n",
              "      <th>75%</th>\n",
              "      <td>338.750000</td>\n",
              "      <td>1177.750000</td>\n",
              "      <td>1049.750000</td>\n",
              "      <td>580.000000</td>\n",
              "    </tr>\n",
              "    <tr>\n",
              "      <th>max</th>\n",
              "      <td>435.000000</td>\n",
              "      <td>1523.000000</td>\n",
              "      <td>1356.000000</td>\n",
              "      <td>750.000000</td>\n",
              "    </tr>\n",
              "  </tbody>\n",
              "</table>\n",
              "</div>"
            ],
            "text/plain": [
              "             East         West        North       South\n",
              "count    2.000000     2.000000     2.000000    2.000000\n",
              "mean   242.500000   832.500000   743.500000  410.000000\n",
              "std    272.236111   976.514465   866.205807  480.832611\n",
              "min     50.000000   142.000000   131.000000   70.000000\n",
              "25%    146.250000   487.250000   437.250000  240.000000\n",
              "50%    242.500000   832.500000   743.500000  410.000000\n",
              "75%    338.750000  1177.750000  1049.750000  580.000000\n",
              "max    435.000000  1523.000000  1356.000000  750.000000"
            ]
          },
          "metadata": {
            "tags": []
          },
          "execution_count": 3
        }
      ]
    },
    {
      "cell_type": "code",
      "metadata": {
        "colab": {
          "base_uri": "https://localhost:8080/"
        },
        "id": "FWINrrZTY4Ou",
        "outputId": "22ac59e4-a894-4dd7-e681-de11fb18bc1c"
      },
      "source": [
        "East=BuyerRatio['East'].mean()\n",
        "West=BuyerRatio['West'].mean()\n",
        "North=BuyerRatio['North'].mean()\n",
        "South=BuyerRatio['South'].mean()\n",
        "\n",
        "print('East Mean = ',East)\n",
        "print('West Mean = ',West)\n",
        "print('North Mean = ',North)\n",
        "print('South Mean = ',South)"
      ],
      "execution_count": 4,
      "outputs": [
        {
          "output_type": "stream",
          "text": [
            "East Mean =  242.5\n",
            "West Mean =  832.5\n",
            "North Mean =  743.5\n",
            "South Mean =  410.0\n"
          ],
          "name": "stdout"
        }
      ]
    },
    {
      "cell_type": "markdown",
      "metadata": {
        "id": "-MmqSOEjZTrp"
      },
      "source": [
        "The Null and Alternative Hypothesis\n",
        "\n",
        "There are no significant differences between the groups' mean Lab values.\n",
        "H0:μ1=μ2=μ3=μ4=μ5\n",
        "    \n",
        "There is a significant difference between the groups' mean Lab values.\n",
        "Ha:μ1≠μ2≠μ3≠μ4"
      ]
    },
    {
      "cell_type": "code",
      "metadata": {
        "colab": {
          "base_uri": "https://localhost:8080/",
          "height": 452
        },
        "id": "KRf5_o46Y4Rl",
        "outputId": "92bc2281-18a8-4064-9f10-92259d7e08ad"
      },
      "source": [
        "sns.distplot(BuyerRatio['East'])\n",
        "sns.distplot(BuyerRatio['West'])\n",
        "sns.distplot(BuyerRatio['North'])\n",
        "sns.distplot(BuyerRatio['South'])\n",
        "plt.legend(['East','West','North','South'])"
      ],
      "execution_count": 5,
      "outputs": [
        {
          "output_type": "stream",
          "text": [
            "/usr/local/lib/python3.7/dist-packages/seaborn/distributions.py:2557: FutureWarning: `distplot` is a deprecated function and will be removed in a future version. Please adapt your code to use either `displot` (a figure-level function with similar flexibility) or `histplot` (an axes-level function for histograms).\n",
            "  warnings.warn(msg, FutureWarning)\n",
            "/usr/local/lib/python3.7/dist-packages/seaborn/distributions.py:2557: FutureWarning: `distplot` is a deprecated function and will be removed in a future version. Please adapt your code to use either `displot` (a figure-level function with similar flexibility) or `histplot` (an axes-level function for histograms).\n",
            "  warnings.warn(msg, FutureWarning)\n",
            "/usr/local/lib/python3.7/dist-packages/seaborn/distributions.py:2557: FutureWarning: `distplot` is a deprecated function and will be removed in a future version. Please adapt your code to use either `displot` (a figure-level function with similar flexibility) or `histplot` (an axes-level function for histograms).\n",
            "  warnings.warn(msg, FutureWarning)\n",
            "/usr/local/lib/python3.7/dist-packages/seaborn/distributions.py:2557: FutureWarning: `distplot` is a deprecated function and will be removed in a future version. Please adapt your code to use either `displot` (a figure-level function with similar flexibility) or `histplot` (an axes-level function for histograms).\n",
            "  warnings.warn(msg, FutureWarning)\n"
          ],
          "name": "stderr"
        },
        {
          "output_type": "execute_result",
          "data": {
            "text/plain": [
              "<matplotlib.legend.Legend at 0x7f4d7362b850>"
            ]
          },
          "metadata": {
            "tags": []
          },
          "execution_count": 5
        },
        {
          "output_type": "display_data",
          "data": {
            "image/png": "[encoded data removed]",
            "text/plain": [
              "<Figure size 432x288 with 1 Axes>"
            ]
          },
          "metadata": {
            "tags": [],
            "needs_background": "light"
          }
        }
      ]
    },
    {
      "cell_type": "code",
      "metadata": {
        "colab": {
          "base_uri": "https://localhost:8080/",
          "height": 282
        },
        "id": "uWEnXKXCY4Uh",
        "outputId": "ec12e9cc-0109-4e1b-81ae-4464cf5031bb"
      },
      "source": [
        "sns.boxplot(data=[BuyerRatio['East'],BuyerRatio['West'],BuyerRatio['North'],BuyerRatio['South']],notch=True)\n",
        "plt.legend(['East','West','North','South'])"
      ],
      "execution_count": 6,
      "outputs": [
        {
          "output_type": "execute_result",
          "data": {
            "text/plain": [
              "<matplotlib.legend.Legend at 0x7f4d701ed310>"
            ]
          },
          "metadata": {
            "tags": []
          },
          "execution_count": 6
        },
        {
          "output_type": "display_data",
          "data": {
            "image/png": "[encoded data removed]",
            "text/plain": [
              "<Figure size 432x288 with 1 Axes>"
            ]
          },
          "metadata": {
            "tags": [],
            "needs_background": "light"
          }
        }
      ]
    },
    {
      "cell_type": "code",
      "metadata": {
        "colab": {
          "base_uri": "https://localhost:8080/"
        },
        "id": "ctJ4XpwHY4XR",
        "outputId": "4638feb6-5788-473b-89bc-f9f9c4c22be6"
      },
      "source": [
        "alpha=0.05\n",
        "Male = [50,142,131,70]\n",
        "Female=[435,1523,1356,750]\n",
        "Sales=[Male,Female]\n",
        "print(Sales)"
      ],
      "execution_count": 7,
      "outputs": [
        {
          "output_type": "stream",
          "text": [
            "[[50, 142, 131, 70], [435, 1523, 1356, 750]]\n"
          ],
          "name": "stdout"
        }
      ]
    },
    {
      "cell_type": "code",
      "metadata": {
        "colab": {
          "base_uri": "https://localhost:8080/"
        },
        "id": "R-k_OpKXY4aA",
        "outputId": "3b0a66ae-e937-4ae1-ff6d-d9ad4051dad2"
      },
      "source": [
        "chiStats = sp.stats.chi2_contingency(Sales)\n",
        "print('Test t=%f p-value=%f' % (chiStats[0], chiStats[1]))\n",
        "\n",
        "print('Interpret by p-Value')\n",
        "\n",
        "if chiStats[1] < 0.05:\n",
        "  print('we reject null hypothesis')\n",
        "else:\n",
        "  print('we accept null hypothesis')"
      ],
      "execution_count": 8,
      "outputs": [
        {
          "output_type": "stream",
          "text": [
            "Test t=1.595946 p-value=0.660309\n",
            "Interpret by p-Value\n",
            "we accept null hypothesis\n"
          ],
          "name": "stdout"
        }
      ]
    },
    {
      "cell_type": "code",
      "metadata": {
        "colab": {
          "base_uri": "https://localhost:8080/"
        },
        "id": "3Esr2HhZY4dD",
        "outputId": "72893c6f-cdfc-4976-b018-76db4ea6c15e"
      },
      "source": [
        "#critical value = 0.1\n",
        "alpha = 0.05\n",
        "critical_value = sp.stats.chi2.ppf(q = 1 - alpha,df=chiStats[2])# Find the critical value for 95% confidence*\n",
        "                      #degree of freedom\n",
        "\n",
        "observed_chi_val = chiStats[0]\n",
        "#if observed chi-square < critical chi-square, then variables are not related\n",
        "#if observed chi-square > critical chi-square, then variables are not independent (and hence may be related).\n",
        "\n",
        "print('Interpret by critical value')\n",
        "\n",
        "if observed_chi_val <= critical_value:\n",
        "    # observed value is not in critical area therefore we accept null hypothesis\n",
        "    print ('Null hypothesis cannot be rejected (variables are not related)')\n",
        "else:\n",
        "    # observed value is in critical area therefore we reject null hypothesis\n",
        "    print ('Null hypothesis cannot be excepted (variables are not independent)')"
      ],
      "execution_count": 9,
      "outputs": [
        {
          "output_type": "stream",
          "text": [
            "Interpret by critical value\n",
            "Null hypothesis cannot be rejected (variables are not related)\n"
          ],
          "name": "stdout"
        }
      ]
    },
    {
      "cell_type": "markdown",
      "metadata": {
        "id": "lXWPn863aklm"
      },
      "source": [
        "Inference : Proportion of male and female across regions is same"
      ]
    },
    {
      "cell_type": "code",
      "metadata": {
        "id": "mR_FoNM8Y4gd"
      },
      "source": [
        ""
      ],
      "execution_count": null,
      "outputs": []
    }
  ]
}